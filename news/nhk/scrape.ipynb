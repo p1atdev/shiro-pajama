{
 "cells": [
  {
   "cell_type": "markdown",
   "metadata": {},
   "source": [
    "## NHK News Web / Title+Summary+Detail dataset\n",
    "\n",
    "Website: https://www3.nhk.or.jp/news\n",
    "\n",
    "### Approach\n",
    "\n",
    "This website doesn't have archive page of news. So, it's a bit diffucult to get old articles.\n",
    "\n",
    "But the website has some api endpoints currently known:\n",
    "\n",
    "- Category: https://www3.nhk.or.jp/news/archtag/00000{:02d}_00{:02d}.json\n",
    "- News by region: https://www3.nhk.or.jp/news/archtag/00022{:02d}_00{:02d}.json\n",
    "\n",
    "By getting these API responses to get the url to the news article.\n"
   ]
  },
  {
   "cell_type": "markdown",
   "metadata": {},
   "source": [
    "## Setup\n"
   ]
  },
  {
   "cell_type": "code",
   "execution_count": 40,
   "metadata": {},
   "outputs": [],
   "source": [
    "import json\n",
    "import requests\n",
    "from bs4 import BeautifulSoup\n",
    "from datasets import load_dataset, Dataset\n",
    "from tqdm import tqdm\n",
    "import time"
   ]
  },
  {
   "cell_type": "markdown",
   "metadata": {},
   "source": [
    "## Cache URLs\n"
   ]
  },
  {
   "cell_type": "code",
   "execution_count": 32,
   "metadata": {},
   "outputs": [
    {
     "name": "stdout",
     "output_type": "stream",
     "text": [
      "main tags\n",
      "https://www3.nhk.or.jp/news/archtag/0000001_0001.json\n",
      "100\n",
      "https://www3.nhk.or.jp/news/archtag/0000001_0002.json\n",
      "200\n",
      "https://www3.nhk.or.jp/news/archtag/0000001_0003.json\n",
      "300\n",
      "https://www3.nhk.or.jp/news/archtag/0000001_0004.json\n",
      "400\n",
      "https://www3.nhk.or.jp/news/archtag/0000001_0005.json\n",
      "500\n",
      "https://www3.nhk.or.jp/news/archtag/0000001_0006.json\n",
      "600\n",
      "https://www3.nhk.or.jp/news/archtag/0000001_0007.json\n",
      "700\n",
      "https://www3.nhk.or.jp/news/archtag/0000001_0008.json\n",
      "800\n",
      "https://www3.nhk.or.jp/news/archtag/0000001_0009.json\n",
      "900\n",
      "https://www3.nhk.or.jp/news/archtag/0000001_0010.json\n",
      "1000\n",
      "https://www3.nhk.or.jp/news/archtag/0000001_0011.json\n",
      "1100\n",
      "https://www3.nhk.or.jp/news/archtag/0000001_0012.json\n",
      "1200\n",
      "https://www3.nhk.or.jp/news/archtag/0000001_0013.json\n",
      "1300\n",
      "https://www3.nhk.or.jp/news/archtag/0000001_0014.json\n",
      "1385\n",
      "https://www3.nhk.or.jp/news/archtag/0000001_0015.json\n",
      "https://www3.nhk.or.jp/news/archtag/0000002_0001.json\n",
      "1485\n",
      "https://www3.nhk.or.jp/news/archtag/0000002_0002.json\n",
      "1585\n",
      "https://www3.nhk.or.jp/news/archtag/0000002_0003.json\n",
      "1685\n",
      "https://www3.nhk.or.jp/news/archtag/0000002_0004.json\n",
      "1785\n",
      "https://www3.nhk.or.jp/news/archtag/0000002_0005.json\n",
      "1885\n",
      "https://www3.nhk.or.jp/news/archtag/0000002_0006.json\n",
      "1985\n",
      "https://www3.nhk.or.jp/news/archtag/0000002_0007.json\n",
      "2085\n",
      "https://www3.nhk.or.jp/news/archtag/0000002_0008.json\n",
      "2185\n",
      "https://www3.nhk.or.jp/news/archtag/0000002_0009.json\n",
      "2270\n",
      "https://www3.nhk.or.jp/news/archtag/0000002_0010.json\n",
      "https://www3.nhk.or.jp/news/archtag/0000003_0001.json\n",
      "2370\n",
      "https://www3.nhk.or.jp/news/archtag/0000003_0002.json\n",
      "2470\n",
      "https://www3.nhk.or.jp/news/archtag/0000003_0003.json\n",
      "2570\n",
      "https://www3.nhk.or.jp/news/archtag/0000003_0004.json\n",
      "2670\n",
      "https://www3.nhk.or.jp/news/archtag/0000003_0005.json\n",
      "2770\n",
      "https://www3.nhk.or.jp/news/archtag/0000003_0006.json\n",
      "2780\n",
      "https://www3.nhk.or.jp/news/archtag/0000003_0007.json\n",
      "https://www3.nhk.or.jp/news/archtag/0000004_0001.json\n",
      "https://www3.nhk.or.jp/news/archtag/0000005_0001.json\n",
      "2880\n",
      "https://www3.nhk.or.jp/news/archtag/0000005_0002.json\n",
      "2959\n",
      "https://www3.nhk.or.jp/news/archtag/0000005_0003.json\n",
      "https://www3.nhk.or.jp/news/archtag/0000006_0001.json\n",
      "3059\n",
      "https://www3.nhk.or.jp/news/archtag/0000006_0002.json\n",
      "3159\n",
      "https://www3.nhk.or.jp/news/archtag/0000006_0003.json\n",
      "3259\n",
      "https://www3.nhk.or.jp/news/archtag/0000006_0004.json\n",
      "3359\n",
      "https://www3.nhk.or.jp/news/archtag/0000006_0005.json\n",
      "3459\n",
      "https://www3.nhk.or.jp/news/archtag/0000006_0006.json\n",
      "3559\n",
      "https://www3.nhk.or.jp/news/archtag/0000006_0007.json\n",
      "3659\n",
      "https://www3.nhk.or.jp/news/archtag/0000006_0008.json\n",
      "3759\n",
      "https://www3.nhk.or.jp/news/archtag/0000006_0009.json\n",
      "3859\n",
      "https://www3.nhk.or.jp/news/archtag/0000006_0010.json\n",
      "3878\n",
      "https://www3.nhk.or.jp/news/archtag/0000006_0011.json\n",
      "https://www3.nhk.or.jp/news/archtag/0000007_0001.json\n",
      "https://www3.nhk.or.jp/news/archtag/0000008_0001.json\n",
      "https://www3.nhk.or.jp/news/archtag/0000009_0001.json\n",
      "3978\n",
      "https://www3.nhk.or.jp/news/archtag/0000009_0002.json\n",
      "4078\n",
      "https://www3.nhk.or.jp/news/archtag/0000009_0003.json\n",
      "4178\n",
      "https://www3.nhk.or.jp/news/archtag/0000009_0004.json\n",
      "4278\n",
      "https://www3.nhk.or.jp/news/archtag/0000009_0005.json\n",
      "4378\n",
      "https://www3.nhk.or.jp/news/archtag/0000009_0006.json\n",
      "4478\n",
      "https://www3.nhk.or.jp/news/archtag/0000009_0007.json\n",
      "4578\n",
      "https://www3.nhk.or.jp/news/archtag/0000009_0008.json\n",
      "4678\n",
      "https://www3.nhk.or.jp/news/archtag/0000009_0009.json\n",
      "4778\n",
      "https://www3.nhk.or.jp/news/archtag/0000009_0010.json\n",
      "4878\n",
      "https://www3.nhk.or.jp/news/archtag/0000009_0011.json\n",
      "4978\n",
      "https://www3.nhk.or.jp/news/archtag/0000009_0012.json\n",
      "5078\n",
      "https://www3.nhk.or.jp/news/archtag/0000009_0013.json\n",
      "5178\n",
      "https://www3.nhk.or.jp/news/archtag/0000009_0014.json\n",
      "5278\n",
      "https://www3.nhk.or.jp/news/archtag/0000009_0015.json\n",
      "5294\n",
      "https://www3.nhk.or.jp/news/archtag/0000009_0016.json\n",
      "https://www3.nhk.or.jp/news/archtag/0000010_0001.json\n",
      "5394\n",
      "https://www3.nhk.or.jp/news/archtag/0000010_0002.json\n",
      "5494\n",
      "https://www3.nhk.or.jp/news/archtag/0000010_0003.json\n",
      "5594\n",
      "https://www3.nhk.or.jp/news/archtag/0000010_0004.json\n",
      "5602\n",
      "https://www3.nhk.or.jp/news/archtag/0000010_0005.json\n",
      "都道府県\n",
      "https://www3.nhk.or.jp/news/archtag/0000001_0001.json\n",
      "5702\n",
      "https://www3.nhk.or.jp/news/archtag/0000001_0002.json\n",
      "5802\n",
      "https://www3.nhk.or.jp/news/archtag/0000001_0003.json\n",
      "5902\n",
      "https://www3.nhk.or.jp/news/archtag/0000001_0004.json\n",
      "6002\n",
      "https://www3.nhk.or.jp/news/archtag/0000001_0005.json\n",
      "6102\n",
      "https://www3.nhk.or.jp/news/archtag/0000001_0006.json\n",
      "6202\n",
      "https://www3.nhk.or.jp/news/archtag/0000001_0007.json\n",
      "6302\n",
      "https://www3.nhk.or.jp/news/archtag/0000001_0008.json\n",
      "6402\n",
      "https://www3.nhk.or.jp/news/archtag/0000001_0009.json\n",
      "6502\n",
      "https://www3.nhk.or.jp/news/archtag/0000001_0010.json\n",
      "6602\n",
      "https://www3.nhk.or.jp/news/archtag/0000001_0011.json\n",
      "6702\n",
      "https://www3.nhk.or.jp/news/archtag/0000001_0012.json\n",
      "6802\n",
      "https://www3.nhk.or.jp/news/archtag/0000001_0013.json\n",
      "6902\n",
      "https://www3.nhk.or.jp/news/archtag/0000001_0014.json\n",
      "6987\n",
      "https://www3.nhk.or.jp/news/archtag/0000001_0015.json\n",
      "https://www3.nhk.or.jp/news/archtag/0000002_0001.json\n",
      "7087\n",
      "https://www3.nhk.or.jp/news/archtag/0000002_0002.json\n",
      "7187\n",
      "https://www3.nhk.or.jp/news/archtag/0000002_0003.json\n",
      "7287\n",
      "https://www3.nhk.or.jp/news/archtag/0000002_0004.json\n",
      "7387\n",
      "https://www3.nhk.or.jp/news/archtag/0000002_0005.json\n",
      "7487\n",
      "https://www3.nhk.or.jp/news/archtag/0000002_0006.json\n",
      "7587\n",
      "https://www3.nhk.or.jp/news/archtag/0000002_0007.json\n",
      "7687\n",
      "https://www3.nhk.or.jp/news/archtag/0000002_0008.json\n",
      "7787\n",
      "https://www3.nhk.or.jp/news/archtag/0000002_0009.json\n",
      "7872\n",
      "https://www3.nhk.or.jp/news/archtag/0000002_0010.json\n",
      "https://www3.nhk.or.jp/news/archtag/0000003_0001.json\n",
      "7972\n",
      "https://www3.nhk.or.jp/news/archtag/0000003_0002.json\n",
      "8072\n",
      "https://www3.nhk.or.jp/news/archtag/0000003_0003.json\n",
      "8172\n",
      "https://www3.nhk.or.jp/news/archtag/0000003_0004.json\n",
      "8272\n",
      "https://www3.nhk.or.jp/news/archtag/0000003_0005.json\n",
      "8372\n",
      "https://www3.nhk.or.jp/news/archtag/0000003_0006.json\n",
      "8382\n",
      "https://www3.nhk.or.jp/news/archtag/0000003_0007.json\n",
      "https://www3.nhk.or.jp/news/archtag/0000004_0001.json\n",
      "https://www3.nhk.or.jp/news/archtag/0000005_0001.json\n",
      "8482\n",
      "https://www3.nhk.or.jp/news/archtag/0000005_0002.json\n",
      "8561\n",
      "https://www3.nhk.or.jp/news/archtag/0000005_0003.json\n",
      "https://www3.nhk.or.jp/news/archtag/0000006_0001.json\n",
      "8661\n",
      "https://www3.nhk.or.jp/news/archtag/0000006_0002.json\n",
      "8761\n",
      "https://www3.nhk.or.jp/news/archtag/0000006_0003.json\n",
      "8861\n",
      "https://www3.nhk.or.jp/news/archtag/0000006_0004.json\n",
      "8961\n",
      "https://www3.nhk.or.jp/news/archtag/0000006_0005.json\n",
      "9061\n",
      "https://www3.nhk.or.jp/news/archtag/0000006_0006.json\n",
      "9161\n",
      "https://www3.nhk.or.jp/news/archtag/0000006_0007.json\n",
      "9261\n",
      "https://www3.nhk.or.jp/news/archtag/0000006_0008.json\n",
      "9361\n",
      "https://www3.nhk.or.jp/news/archtag/0000006_0009.json\n",
      "9461\n",
      "https://www3.nhk.or.jp/news/archtag/0000006_0010.json\n",
      "9480\n",
      "https://www3.nhk.or.jp/news/archtag/0000006_0011.json\n",
      "https://www3.nhk.or.jp/news/archtag/0000007_0001.json\n",
      "https://www3.nhk.or.jp/news/archtag/0000008_0001.json\n",
      "https://www3.nhk.or.jp/news/archtag/0000009_0001.json\n",
      "9580\n",
      "https://www3.nhk.or.jp/news/archtag/0000009_0002.json\n",
      "9680\n",
      "https://www3.nhk.or.jp/news/archtag/0000009_0003.json\n",
      "9780\n",
      "https://www3.nhk.or.jp/news/archtag/0000009_0004.json\n",
      "9880\n",
      "https://www3.nhk.or.jp/news/archtag/0000009_0005.json\n",
      "9980\n",
      "https://www3.nhk.or.jp/news/archtag/0000009_0006.json\n",
      "10080\n",
      "https://www3.nhk.or.jp/news/archtag/0000009_0007.json\n",
      "10180\n",
      "https://www3.nhk.or.jp/news/archtag/0000009_0008.json\n",
      "10280\n",
      "https://www3.nhk.or.jp/news/archtag/0000009_0009.json\n",
      "10380\n",
      "https://www3.nhk.or.jp/news/archtag/0000009_0010.json\n",
      "10480\n",
      "https://www3.nhk.or.jp/news/archtag/0000009_0011.json\n",
      "10580\n",
      "https://www3.nhk.or.jp/news/archtag/0000009_0012.json\n",
      "10680\n",
      "https://www3.nhk.or.jp/news/archtag/0000009_0013.json\n",
      "10780\n",
      "https://www3.nhk.or.jp/news/archtag/0000009_0014.json\n",
      "10880\n",
      "https://www3.nhk.or.jp/news/archtag/0000009_0015.json\n",
      "10896\n",
      "https://www3.nhk.or.jp/news/archtag/0000009_0016.json\n",
      "https://www3.nhk.or.jp/news/archtag/0000010_0001.json\n",
      "10996\n",
      "https://www3.nhk.or.jp/news/archtag/0000010_0002.json\n",
      "11096\n",
      "https://www3.nhk.or.jp/news/archtag/0000010_0003.json\n",
      "11196\n",
      "https://www3.nhk.or.jp/news/archtag/0000010_0004.json\n",
      "11204\n",
      "https://www3.nhk.or.jp/news/archtag/0000010_0005.json\n",
      "https://www3.nhk.or.jp/news/archtag/0000011_0001.json\n",
      "https://www3.nhk.or.jp/news/archtag/0000012_0001.json\n",
      "https://www3.nhk.or.jp/news/archtag/0000013_0001.json\n",
      "https://www3.nhk.or.jp/news/archtag/0000014_0001.json\n",
      "11241\n",
      "https://www3.nhk.or.jp/news/archtag/0000014_0002.json\n",
      "https://www3.nhk.or.jp/news/archtag/0000015_0001.json\n",
      "https://www3.nhk.or.jp/news/archtag/0000016_0001.json\n",
      "https://www3.nhk.or.jp/news/archtag/0000017_0001.json\n",
      "11271\n",
      "https://www3.nhk.or.jp/news/archtag/0000017_0002.json\n",
      "https://www3.nhk.or.jp/news/archtag/0000018_0001.json\n",
      "https://www3.nhk.or.jp/news/archtag/0000019_0001.json\n",
      "11371\n",
      "https://www3.nhk.or.jp/news/archtag/0000019_0002.json\n",
      "11471\n",
      "https://www3.nhk.or.jp/news/archtag/0000019_0003.json\n",
      "11494\n",
      "https://www3.nhk.or.jp/news/archtag/0000019_0004.json\n",
      "https://www3.nhk.or.jp/news/archtag/0000020_0001.json\n",
      "11498\n",
      "https://www3.nhk.or.jp/news/archtag/0000020_0002.json\n",
      "https://www3.nhk.or.jp/news/archtag/0000021_0001.json\n",
      "11598\n",
      "https://www3.nhk.or.jp/news/archtag/0000021_0002.json\n",
      "11644\n",
      "https://www3.nhk.or.jp/news/archtag/0000021_0003.json\n",
      "https://www3.nhk.or.jp/news/archtag/0000022_0001.json\n",
      "11744\n",
      "https://www3.nhk.or.jp/news/archtag/0000022_0002.json\n",
      "11844\n",
      "https://www3.nhk.or.jp/news/archtag/0000022_0003.json\n",
      "11944\n",
      "https://www3.nhk.or.jp/news/archtag/0000022_0004.json\n",
      "12005\n",
      "https://www3.nhk.or.jp/news/archtag/0000022_0005.json\n",
      "https://www3.nhk.or.jp/news/archtag/0000023_0001.json\n",
      "https://www3.nhk.or.jp/news/archtag/0000024_0001.json\n",
      "12105\n",
      "https://www3.nhk.or.jp/news/archtag/0000024_0002.json\n",
      "12205\n",
      "https://www3.nhk.or.jp/news/archtag/0000024_0003.json\n",
      "12305\n",
      "https://www3.nhk.or.jp/news/archtag/0000024_0004.json\n",
      "12352\n",
      "https://www3.nhk.or.jp/news/archtag/0000024_0005.json\n",
      "https://www3.nhk.or.jp/news/archtag/0000025_0001.json\n",
      "https://www3.nhk.or.jp/news/archtag/0000026_0001.json\n",
      "12452\n",
      "https://www3.nhk.or.jp/news/archtag/0000026_0002.json\n",
      "12552\n",
      "https://www3.nhk.or.jp/news/archtag/0000026_0003.json\n",
      "12652\n",
      "https://www3.nhk.or.jp/news/archtag/0000026_0004.json\n",
      "12752\n",
      "https://www3.nhk.or.jp/news/archtag/0000026_0005.json\n",
      "12852\n",
      "https://www3.nhk.or.jp/news/archtag/0000026_0006.json\n",
      "12952\n",
      "https://www3.nhk.or.jp/news/archtag/0000026_0007.json\n",
      "13039\n",
      "https://www3.nhk.or.jp/news/archtag/0000026_0008.json\n",
      "https://www3.nhk.or.jp/news/archtag/0000027_0001.json\n",
      "https://www3.nhk.or.jp/news/archtag/0000028_0001.json\n",
      "https://www3.nhk.or.jp/news/archtag/0000029_0001.json\n",
      "https://www3.nhk.or.jp/news/archtag/0000030_0001.json\n",
      "13060\n",
      "https://www3.nhk.or.jp/news/archtag/0000030_0002.json\n",
      "https://www3.nhk.or.jp/news/archtag/0000031_0001.json\n",
      "https://www3.nhk.or.jp/news/archtag/0000032_0001.json\n",
      "https://www3.nhk.or.jp/news/archtag/0000033_0001.json\n",
      "https://www3.nhk.or.jp/news/archtag/0000034_0001.json\n",
      "13160\n",
      "https://www3.nhk.or.jp/news/archtag/0000034_0002.json\n",
      "13260\n",
      "https://www3.nhk.or.jp/news/archtag/0000034_0003.json\n",
      "13360\n",
      "https://www3.nhk.or.jp/news/archtag/0000034_0004.json\n",
      "13460\n",
      "https://www3.nhk.or.jp/news/archtag/0000034_0005.json\n",
      "13560\n",
      "https://www3.nhk.or.jp/news/archtag/0000034_0006.json\n",
      "13660\n",
      "https://www3.nhk.or.jp/news/archtag/0000034_0007.json\n",
      "13760\n",
      "https://www3.nhk.or.jp/news/archtag/0000034_0008.json\n",
      "13860\n",
      "https://www3.nhk.or.jp/news/archtag/0000034_0009.json\n",
      "13960\n",
      "https://www3.nhk.or.jp/news/archtag/0000034_0010.json\n",
      "14060\n",
      "https://www3.nhk.or.jp/news/archtag/0000034_0011.json\n",
      "14160\n",
      "https://www3.nhk.or.jp/news/archtag/0000034_0012.json\n",
      "14221\n",
      "https://www3.nhk.or.jp/news/archtag/0000034_0013.json\n",
      "https://www3.nhk.or.jp/news/archtag/0000035_0001.json\n",
      "14321\n",
      "https://www3.nhk.or.jp/news/archtag/0000035_0002.json\n",
      "14421\n",
      "https://www3.nhk.or.jp/news/archtag/0000035_0003.json\n",
      "14521\n",
      "https://www3.nhk.or.jp/news/archtag/0000035_0004.json\n",
      "14621\n",
      "https://www3.nhk.or.jp/news/archtag/0000035_0005.json\n",
      "14721\n",
      "https://www3.nhk.or.jp/news/archtag/0000035_0006.json\n",
      "14821\n",
      "https://www3.nhk.or.jp/news/archtag/0000035_0007.json\n",
      "14921\n",
      "https://www3.nhk.or.jp/news/archtag/0000035_0008.json\n",
      "15021\n",
      "https://www3.nhk.or.jp/news/archtag/0000035_0009.json\n",
      "15121\n",
      "https://www3.nhk.or.jp/news/archtag/0000035_0010.json\n",
      "15221\n",
      "https://www3.nhk.or.jp/news/archtag/0000035_0011.json\n",
      "15321\n",
      "https://www3.nhk.or.jp/news/archtag/0000035_0012.json\n",
      "15421\n",
      "https://www3.nhk.or.jp/news/archtag/0000035_0013.json\n",
      "15521\n",
      "https://www3.nhk.or.jp/news/archtag/0000035_0014.json\n",
      "15621\n",
      "https://www3.nhk.or.jp/news/archtag/0000035_0015.json\n",
      "15721\n",
      "https://www3.nhk.or.jp/news/archtag/0000035_0016.json\n",
      "15821\n",
      "https://www3.nhk.or.jp/news/archtag/0000035_0017.json\n",
      "15921\n",
      "https://www3.nhk.or.jp/news/archtag/0000035_0018.json\n",
      "16021\n",
      "https://www3.nhk.or.jp/news/archtag/0000035_0019.json\n",
      "16121\n",
      "https://www3.nhk.or.jp/news/archtag/0000035_0020.json\n",
      "16221\n",
      "https://www3.nhk.or.jp/news/archtag/0000035_0021.json\n",
      "16321\n",
      "https://www3.nhk.or.jp/news/archtag/0000035_0022.json\n",
      "16346\n",
      "https://www3.nhk.or.jp/news/archtag/0000035_0023.json\n",
      "https://www3.nhk.or.jp/news/archtag/0000036_0001.json\n",
      "https://www3.nhk.or.jp/news/archtag/0000037_0001.json\n",
      "16369\n",
      "https://www3.nhk.or.jp/news/archtag/0000037_0002.json\n",
      "https://www3.nhk.or.jp/news/archtag/0000038_0001.json\n",
      "https://www3.nhk.or.jp/news/archtag/0000039_0001.json\n",
      "16387\n",
      "https://www3.nhk.or.jp/news/archtag/0000039_0002.json\n",
      "https://www3.nhk.or.jp/news/archtag/0000040_0001.json\n",
      "https://www3.nhk.or.jp/news/archtag/0000041_0001.json\n",
      "https://www3.nhk.or.jp/news/archtag/0000042_0001.json\n",
      "https://www3.nhk.or.jp/news/archtag/0000043_0001.json\n",
      "https://www3.nhk.or.jp/news/archtag/0000044_0001.json\n",
      "https://www3.nhk.or.jp/news/archtag/0000045_0001.json\n",
      "https://www3.nhk.or.jp/news/archtag/0000046_0001.json\n",
      "https://www3.nhk.or.jp/news/archtag/0000047_0001.json\n",
      "16397\n",
      "https://www3.nhk.or.jp/news/archtag/0000047_0002.json\n",
      "Done!\n",
      "16397\n"
     ]
    }
   ],
   "source": [
    "items = []\n",
    "\n",
    "client = requests.session()\n",
    "\n",
    "print(\"main tags\")\n",
    "\n",
    "for i in range(1, 11):\n",
    "    for j in range(1, 50):\n",
    "        url = f\"https://www3.nhk.or.jp/news/archtag/00000{i:02d}_00{j:02d}.json\"\n",
    "        print(url)\n",
    "        res = client.get(url)\n",
    "        res.encoding = res.apparent_encoding\n",
    "        if res.status_code != 200:\n",
    "            break\n",
    "        data = json.loads(res.text)\n",
    "        for item in data[\"channel\"][\"item\"]:\n",
    "            items.append(item)\n",
    "\n",
    "        print(len(items))\n",
    "\n",
    "print(\"都道府県\")\n",
    "\n",
    "for i in range(1, 48):\n",
    "    for j in range(1, 50):\n",
    "        url = f\"https://www3.nhk.or.jp/news/archtag/00000{i:02d}_00{j:02d}.json\"\n",
    "        print(url)\n",
    "        res = client.get(url)\n",
    "        res.encoding = res.apparent_encoding\n",
    "        if res.status_code != 200:\n",
    "            break\n",
    "        data = json.loads(res.text)\n",
    "        for item in data[\"channel\"][\"item\"]:\n",
    "            items.append(item)\n",
    "\n",
    "        print(len(items))\n",
    "\n",
    "print(\"Done!\")\n",
    "print(len(items))"
   ]
  },
  {
   "cell_type": "markdown",
   "metadata": {},
   "source": [
    "## Get news body\n",
    "\n",
    "This takes a few minutes...\n"
   ]
  },
  {
   "cell_type": "code",
   "execution_count": 35,
   "metadata": {},
   "outputs": [],
   "source": [
    "BASE_URL = \"https://www3.nhk.or.jp\""
   ]
  },
  {
   "cell_type": "code",
   "execution_count": 44,
   "metadata": {},
   "outputs": [
    {
     "name": "stderr",
     "output_type": "stream",
     "text": [
      "100%|██████████| 16397/16397 [09:49<00:00, 27.81it/s]  \n"
     ]
    }
   ],
   "source": [
    "# item にそれぞれ html を追加していく\n",
    "for item in tqdm(items):\n",
    "    # すでに html がある場合はスキップ\n",
    "    if \"html\" in item:\n",
    "        continue\n",
    "\n",
    "    url = BASE_URL + item[\"link\"]\n",
    "    # print(url)\n",
    "    res = client.get(url)\n",
    "    if res.status_code != 200:\n",
    "        if res.status_code == 404:\n",
    "            # print(\"404\")\n",
    "            continue\n",
    "        print(\"error!!!\")\n",
    "        print(res.status_code)\n",
    "        break\n",
    "    soup = BeautifulSoup(res.content, \"lxml\", from_encoding=\"utf-8\")\n",
    "    item[\"html\"] = soup.prettify()\n",
    "\n",
    "    time.sleep(0.1)  # avoid 429"
   ]
  },
  {
   "cell_type": "code",
   "execution_count": 45,
   "metadata": {},
   "outputs": [
    {
     "data": {
      "text/plain": [
       "{'id': '427766',\n",
       " 'title': 'ヤクルト新人入団発表 ドラフト1位西舘昂汰「新人王とりたい」',\n",
       " 'pubDate': 'Mon, 04 Dec 2023 19:53:00 +0900',\n",
       " 'cate': '7',\n",
       " 'cate_group': ['7'],\n",
       " 'link': '/news/html/20231204/k10014277661000.html',\n",
       " 'imgPath': '/news/html/20231204/K10014277661_2312041731_1204173643_01_02.jpg',\n",
       " 'iconPath': '/news/html/20231204/K10014277661_2312041731_1204173643_01_02.jpg',\n",
       " 'videoPath': '',\n",
       " 'videoDuration': '0',\n",
       " 'relationNews': [],\n",
       " 'html': '<!DOCTYPE HTML>\\n<!--[if lt IE 7]>      <html class=\"no-js lt-ie9 lt-ie8 lt-ie7 eq-ie6\"> <![endif]-->\\n<!--[if IE 7]>         <html class=\"no-js lt-ie9 lt-ie8 eq-ie7\"> <![endif]-->\\n<!--[if IE 8]>         <html class=\"no-js lt-ie9 eq-ie8\"> <![endif]-->\\n<!--[if gt IE 8]><!-->\\n<html class=\"no-js\">\\n <!--<![endif]-->\\n <head prefix=\"og: http://ogp.me/ns# fb: http://ogp.me/ns/fb# website: http://ogp.me/ns/website#\">\\n  <meta charset=\"utf-8\"/>\\n  <meta content=\"IE=edge\" http-equiv=\"X-UA-Compatible\"/>\\n  <meta content=\"requiresActiveX=true\" http-equiv=\"X-UA-Compatible\"/>\\n  <title>\\n   ヤクルト新人入団発表 ドラフト1位西舘昂汰「新人王とりたい」 | NHK | プロ野球\\n  </title>\\n  <meta content=\"noodp,noarchive\" name=\"robots\"/>\\n  <meta content=\"プロ野球,野球,東京都,スポーツ,NHK,ニュース,NHK NEWS WEB\" name=\"keywords\"/>\\n  <meta content=\"【NHK】プロ野球 ヤクルトの新人選手の入団発表が行われ、ドラフト1位の専修大、西舘昂汰投手が「新人王をとりたい」と意気込みを話し…\" name=\"description\"/>\\n  <meta content=\"NHK(Japan Broadcasting Corporation)\" name=\"copyright\"/>\\n  <meta content=\"日本放送協会\" name=\"author\"/>\\n  <meta content=\"Japan\" name=\"Targeted Geographic Area\"/>\\n  <meta content=\"Japan\" name=\"coverage\"/>\\n  <meta content=\"general\" name=\"rating\"/>\\n  <meta content=\"ja\" name=\"content-language\"/>\\n  <meta content=\"index,follow\" name=\"robots\"/>\\n  <meta content=\"telephone=no\" name=\"format-detection\"/>\\n  <meta content=\"width=device-width,initial-scale=1\" name=\"viewport\"/>\\n  <meta content=\"NHKニュース\" property=\"og:site_name\"/>\\n  <meta content=\"ヤクルト新人入団発表 ドラフト1位西舘昂汰「新人王とりたい」 | NHK\" property=\"og:title\"/>\\n  <meta content=\"ja_JP\" property=\"og:locale\"/>\\n  <meta content=\"【NHK】プロ野球 ヤクルトの新人選手の入団発表が行われ、ドラフト1位の専修大、西舘昂汰投手が「新人王をとりたい」と意気込みを話し…\" property=\"og:description\"/>\\n  <meta content=\"https://www3.nhk.or.jp/news/html/20231204/k10014277661000.html\" property=\"og:url\"/>\\n  <meta content=\"https://www3.nhk.or.jp/news/html/20231204/K10014277661_2312041731_1204173643_01_02.jpg\" property=\"og:image\"/>\\n  <meta content=\"max-image-preview:large\" name=\"robots\"/>\\n  <meta content=\"article\" property=\"og:type\"/>\\n  <meta content=\"157582317936888\" property=\"fb:app_id\"/>\\n  <meta content=\"summary_large_image\" name=\"twitter:card\"/>\\n  <meta content=\"@nhk_news\" name=\"twitter:site\"/>\\n  <meta content=\"@nhk_news\" name=\"twitter:creator\"/>\\n  <meta content=\"#0076d1\" name=\"theme-color\"/>\\n  <!-- meta-theme-color for Chrome -->\\n  <meta content=\"/news/browserconfig.xml\" name=\"msapplication-config\"/>\\n  <meta content=\"/news/parts16/images/favicon/apple-touch-icon-180x180-precomposed.png\" name=\"msapplication-TileImage\"/>\\n  <meta content=\"#0076d1\" name=\"msapplication-TileColor\"/>\\n  <link href=\"/news/manifest.json\" rel=\"manifest\"/>\\n  <link href=\"/news/parts16/images/favicon/favicon.ico\" rel=\"shortcut icon\" type=\"image/x-icon\"/>\\n  <link href=\"/news/parts16/images/favicon/apple-touch-icon-180x180-precomposed.png\" rel=\"apple-touch-icon-precomposed\" sizes=\"180x180\"/>\\n  <link href=\"http://k.nhk.jp/knews/20231204/k10014277661000.html\" media=\"handheld\" rel=\"alternate\"/>\\n  <link href=\"https://www3.nhk.or.jp/news/html/20231204/k10014277661000.html\" rel=\"canonical\"/>\\n  <link href=\"https://www3.nhk.or.jp/news/html/20231204/amp/k10014277661000.html\" rel=\"amphtml\"/>\\n  <script type=\"application/ld+json\">\\n   {\\r\\n  \"@context\": \"http://schema.org\",\\r\\n  \"@type\": \"Organization\",\\r\\n  \"@id\": \"https://www3.nhk.or.jp/news/#org\",\\r\\n  \"name\": \"NHK NEWS WEB\",\\r\\n  \"logo\": {\\r\\n    \"@type\": \"ImageObject\",\\r\\n    \"url\": \"https://www3.nhk.or.jp/news/parts16/images/common/logo-amp.png\",\\r\\n    \"width\": 600,\\r\\n    \"height\": 60\\r\\n  }\\r\\n}\\n  </script>\\n  <script type=\"application/ld+json\">\\n   {\\r\\n  \"@context\": \"http://schema.org\",\\r\\n  \"@type\": \"Organization\",\\r\\n  \"@id\": \"https://www3.nhk.or.jp/news/#author\",\\r\\n  \"name\": \"日本放送協会\",\\r\\n  \"url\": \"https://www.nhk.or.jp/\",\\r\\n  \"image\": \"https://www3.nhk.or.jp/news/parts16/images/favicon/apple-touch-icon-180x180-precomposed.png\"\\r\\n}\\n  </script>\\n  <script type=\"application/ld+json\">\\n   {\\r\\n  \"@context\": \"http://schema.org\",\\r\\n  \"@type\": \"NewsArticle\",\\r\\n  \"mainEntityOfPage\": {\\r\\n    \"@type\": \"WebPage\",\\r\\n    \"@id\": \"https://www3.nhk.or.jp/news/html/20231204/k10014277661000.html\"\\r\\n  },\\r\\n  \"inLanguage\": \"ja\",\\r\\n  \"headline\": \"ヤクルト新人入団発表 ドラフト1位西舘昂汰「新人王とりたい」\",\\r\\n  \"description\": \"プロ野球 ヤクルトの新人選手の入団発表が行われ、ドラフト1位の専修大、西舘昂汰投手が「新人王をとりたい」と意気込みを話し…\",\\r\\n  \"identifier\": \"k10014277661000\",\\r\\n  \"articleSection\": \"一般\",\\r\\n  \"genre\": [\"スポーツ\"],\\r\\n  \"keywords\": [\"プロ野球\",\"野球\",\"東京都\"],\\r\\n  \"image\": [{\\r\\n    \"@type\": \"ImageObject\",\\r\\n    \"url\": \"https://www3.nhk.or.jp/news/html/20231204/K10014277661_2312041731_1204173643_01_02.jpg\",\\r\\n    \"width\": 1280,\\r\\n    \"height\": 720\\r\\n  }],\\r\\n  \"datePublished\": \"2023-12-04T19:53:23+09:00\",\\r\\n  \"dateModified\": \"2023-12-14T14:05:22+09:00\",\\r\\n  \"publisher\": {\\r\\n    \"@id\": \"https://www3.nhk.or.jp/news/#org\"\\r\\n  },\\r\\n  \"author\": {\\r\\n    \"@id\": \"https://www3.nhk.or.jp/news/#author\"\\r\\n  }\\r\\n}\\n  </script>\\n  <script src=\"/common/js/nol_tools.js\">\\n  </script>\\n  <link href=\"/news/parts16/css/reset-v3.css?stamp=ph5110\" rel=\"stylesheet\"/>\\n  <link href=\"/news/parts16/css/style-v3.css?stamp=ph5110\" rel=\"stylesheet\"/>\\n  <script src=\"/news/parts16/js/pre.bundle-v3.js?stamp=ph5110\">\\n  </script>\\n  <script async=\"async\" src=\"/news/parts16/js/modernizr.js\">\\n  </script>\\n  <script charset=\"utf-8\" src=\"/common/sp/nol_SmartPhone.js\">\\n  </script>\\n  <script charset=\"UTF-8\" src=\"/common/sns/nol_share.js\">\\n  </script>\\n  <script charset=\"UTF-8\" src=\"/news/r/js/exist.js\">\\n  </script>\\n  <script>\\n   NHKSNS.initSNSOnLoad();\\n  </script>\\n  <script type=\"text/javascript\">\\n   var _sf_startpt = (new Date()).getTime();var _cb_sections_preset = \\'一般記事,スポーツ\\'; var _cb_sections_preset_tags = [\"プロ野球\",\"野球\",\"東京都\"];\\n  </script>\\n </head>\\n <body class=\"detail news-sports\">\\n  <section id=\"appsbanner\">\\n   <script>\\n    NEWSPRE.preAppsBanner()\\n   </script>\\n  </section>\\n  <aside id=\"nhkheader\">\\n   <script>\\n    nol_showCmnHeader({design:\\'gray\\'});\\n   </script>\\n  </aside>\\n  <!--/ #nhkheader -->\\n  <aside class=\"module--news-flash\" role=\"complementary\">\\n  </aside>\\n  <!--/ .flash_news -->\\n  <aside class=\"module--modal is-close\">\\n  </aside>\\n  <!--/ .module_modal -->\\n  <div id=\"wrapper\">\\n   <header id=\"header\" role=\"banner\">\\n   </header>\\n   <!--/ #header -->\\n   <div id=\"content\">\\n    <div id=\"content-inner\">\\n     <noscript>\\n      このページではJavaScriptを使用しています。\\n     </noscript>\\n     <aside class=\"module--hot-trends\">\\n     </aside>\\n     <!--/ .hot_trends -->\\n     <main id=\"main\" role=\"main\">\\n      <article class=\"module module--site-information\">\\n      </article>\\n      <article class=\"module module--notifications\">\\n      </article>\\n      <article class=\"module module--detail\">\\n       <script type=\"text/javascript\">\\n        var __DetailProp__ = {\\r\\n\\t\\t\\t\\t\\tcate: \\'7\\',\\r\\n\\t\\t\\t\\t\\tdate: \\'12月4日 19時53分\\',\\r\\n\\t\\t\\t\\t\\tdatetime: \\'2023-12-04T19:53\\',\\r\\n\\t\\t\\t\\t\\t//id: \\'k10014277661000\\',\\r\\n\\t\\t\\t\\t\\t//video: \\'\\',\\r\\n\\t\\t\\t\\t\\tvideo: \\'\\',\\r\\n\\t\\t\\t\\t\\tduration: 0,\\r\\n\\t\\t\\t\\t\\timg: \\'html\\\\/20231204\\\\/K10014277661_2312041731_1204173643_01_02.jpg\\',\\r\\n\\t\\t\\t\\t\\tlargeImg: \\'html\\\\/20231204\\\\/K10014277661_2312041731_1204173643_01_02.jpg\\',\\r\\n\\t\\t\\t\\t\\ttitle: \\'\\\\u30E4\\\\u30AF\\\\u30EB\\\\u30C8\\\\u65B0\\\\u4EBA\\\\u5165\\\\u56E3\\\\u767A\\\\u8868 \\\\u30C9\\\\u30E9\\\\u30D5\\\\u30C81\\\\u4F4D\\\\u897F\\\\u8218\\\\u6602\\\\u6C70\\\\u300C\\\\u65B0\\\\u4EBA\\\\u738B\\\\u3068\\\\u308A\\\\u305F\\\\u3044\\\\u300D\\',\\r\\n\\t\\t\\t\\t\\tsummary: \\'\\\\u30D7\\\\u30ED\\\\u91CE\\\\u7403 \\\\u30E4\\\\u30AF\\\\u30EB\\\\u30C8\\\\u306E\\\\u65B0\\\\u4EBA\\\\u9078\\\\u624B\\\\u306E\\\\u5165\\\\u56E3\\\\u767A\\\\u8868\\\\u304C\\\\u884C\\\\u308F\\\\u308C\\\\u3001\\\\u30C9\\\\u30E9\\\\u30D5\\\\u30C81\\\\u4F4D\\\\u306E\\\\u5C02\\\\u4FEE\\\\u5927\\\\u3001\\\\u897F\\\\u8218\\\\u6602\\\\u6C70\\\\u6295\\\\u624B\\\\u304C\\\\u300C\\\\u65B0\\\\u4EBA\\\\u738B\\\\u3092\\\\u3068\\\\u308A\\\\u305F\\\\u3044\\\\u300D\\\\u3068\\\\u610F\\\\u6C17\\\\u8FBC\\\\u307F\\\\u3092\\\\u8A71\\\\u3057\\\\u307E\\\\u3057\\\\u305F\\\\u3002\\',\\r\\n\\t\\t\\t\\t\\tmore: \\'\\\\u30E4\\\\u30AF\\\\u30EB\\\\u30C8\\\\u306E\\\\u65B0\\\\u4EBA\\\\u9078\\\\u624B\\\\u306E\\\\u5165\\\\u56E3\\\\u767A\\\\u8868\\\\u306F\\\\u3001\\\\u62BD\\\\u305B\\\\u3093\\\\u3067\\\\u9078\\\\u3070\\\\u308C\\\\u305F120\\\\u4EBA\\\\u306E\\\\u30D5\\\\u30A1\\\\u30F3\\\\u3082\\\\u53C2\\\\u52A0\\\\u3057\\\\u3066\\\\u6771\\\\u4EAC \\\\u6E2F\\\\u533A\\\\u3067\\\\u884C\\\\u308F\\\\u308C\\\\u3001\\\\u3053\\\\u3068\\\\u3057\\\\u306E\\\\u30C9\\\\u30E9\\\\u30D5\\\\u30C8\\\\u4F1A\\\\u8B70\\\\u3067\\\\u6307\\\\u540D\\\\u3055\\\\u308C\\\\u305F\\\\u80B2\\\\u6210\\\\u9078\\\\u624B\\\\u3092\\\\u542B\\\\u30806\\\\u4EBA\\\\u304C\\\\u51FA\\\\u5E2D\\\\u3057\\\\u307E\\\\u3057\\\\u305F\\\\u3002<br \\\\/><br \\\\/>\\\\u3053\\\\u306E\\\\u3046\\\\u3061\\\\u3001\\\\u30C9\\\\u30E9\\\\u30D5\\\\u30C81\\\\u4F4D\\\\u306E\\\\u897F\\\\u8218\\\\u6295\\\\u624B\\\\u306F\\\\u8EAB\\\\u95771\\\\u30E1\\\\u30FC\\\\u30C8\\\\u30EB88\\\\u30BB\\\\u30F3\\\\u30C1\\\\u306E\\\\u9577\\\\u8EAB\\\\u304B\\\\u3089\\\\u6295\\\\u3052\\\\u4E0B\\\\u308D\\\\u3059\\\\u6700\\\\u901F152\\\\u30AD\\\\u30ED\\\\u306E\\\\u529B\\\\u5F37\\\\u3044\\\\u30B9\\\\u30C8\\\\u30EC\\\\u30FC\\\\u30C8\\\\u3068\\\\u8C4A\\\\u5BCC\\\\u306A\\\\u30B9\\\\u30BF\\\\u30DF\\\\u30CA\\\\u304C\\\\u6301\\\\u3061\\\\u5473\\\\u306E\\\\u53F3\\\\u30D4\\\\u30C3\\\\u30C1\\\\u30E3\\\\u30FC\\\\u3067\\\\u3001\\\\u5148\\\\u767A\\\\u30ED\\\\u30FC\\\\u30C6\\\\u30FC\\\\u30B7\\\\u30E7\\\\u30F3\\\\u306E\\\\u4E00\\\\u89D2\\\\u3068\\\\u3057\\\\u3066\\\\u6D3B\\\\u8E8D\\\\u3059\\\\u308B\\\\u3053\\\\u3068\\\\u304C\\\\u671F\\\\u5F85\\\\u3055\\\\u308C\\\\u3066\\\\u3044\\\\u307E\\\\u3059\\\\u3002<br \\\\/><br \\\\/>\\\\u80CC\\\\u756A\\\\u53F7\\\\u300C14\\\\u300D\\\\u306E\\\\u30E6\\\\u30CB\\\\u30D5\\\\u30A9\\\\u30FC\\\\u30E0\\\\u306B\\\\u8896\\\\u3092\\\\u901A\\\\u3057\\\\u305F\\\\u897F\\\\u8218\\\\u6295\\\\u624B\\\\u306F\\\\u300C\\\\u30D7\\\\u30ED\\\\u306B\\\\u306A\\\\u3063\\\\u3066\\\\u7279\\\\u5225\\\\u306B\\\\u4F55\\\\u304B\\\\u3092\\\\u3059\\\\u308B\\\\u3068\\\\u3044\\\\u3046\\\\u308F\\\\u3051\\\\u3067\\\\u306F\\\\u306A\\\\u304F\\\\u7A4D\\\\u307F\\\\u4E0A\\\\u3052\\\\u3066\\\\u304D\\\\u305F\\\\u3082\\\\u306E\\\\u3092\\\\u81EA\\\\u5206\\\\u306E\\\\u7279\\\\u5FB4\\\\u3060\\\\u3068\\\\u601D\\\\u3063\\\\u3066\\\\u8CAB\\\\u3044\\\\u3066\\\\u3084\\\\u3063\\\\u3066\\\\u3044\\\\u304D\\\\u305F\\\\u3044\\\\u300D\\\\u3068\\\\u8A71\\\\u3057\\\\u307E\\\\u3057\\\\u305F\\\\u3002<br \\\\/><br \\\\/>\\\\u305D\\\\u3057\\\\u3066\\\\u3001\\\\u300C\\\\u8EAB\\\\u9577\\\\u304C190\\\\u30BB\\\\u30F3\\\\u30C1\\\\u8FD1\\\\u304F\\\\u3042\\\\u308A\\\\u89D2\\\\u5EA6\\\\u306E\\\\u3042\\\\u308B\\\\u30B9\\\\u30C8\\\\u30EC\\\\u30FC\\\\u30C8\\\\u3068\\\\u30B9\\\\u30E9\\\\u30A4\\\\u30C0\\\\u30FC\\\\u306F\\\\u7A7A\\\\u632F\\\\u308A\\\\u3092\\\\u3068\\\\u308C\\\\u308B\\\\u3068\\\\u601D\\\\u3063\\\\u3066\\\\u3044\\\\u308B\\\\u306E\\\\u3067\\\\u3001\\\\u305D\\\\u308C\\\\u3092\\\\u6B66\\\\u5668\\\\u306B\\\\u9811\\\\u5F35\\\\u308A\\\\u305F\\\\u3044\\\\u3002\\\\u305D\\\\u3057\\\\u3066\\\\u65B0\\\\u4EBA\\\\u738B\\\\u3092\\\\u3068\\\\u308A\\\\u305F\\\\u3044\\\\u300D\\\\u3068\\\\u610F\\\\u6C17\\\\u8FBC\\\\u307F\\\\u3092\\\\u8A9E\\\\u308A\\\\u307E\\\\u3057\\\\u305F\\\\u3002\\',\\r\\n\\t\\t\\t\\t\\tcaption: \\'\\',\\r\\n\\t\\t\\t\\t\\tbody: [{\\r\\n\\t\\t\\t\\t\\t\\tdetailType: \\'1\\',\\r\\n\\t\\t\\t\\t\\t\\ttitle: \\'\\',\\r\\n\\t\\t\\t\\t\\t\\timg: \\'html\\\\/20231204\\\\/K10014277661_2312041731_1204173610_01_03.jpg\\',\\r\\n\\t\\t\\t\\t\\t\\talign: \\'\\',\\r\\n\\t\\t\\t\\t\\t\\tdecorateType: \\'0\\',\\r\\n\\t\\t\\t\\t\\t\\tdecorateColor: \\'\\',\\r\\n\\t\\t\\t\\t\\t\\tlinkurl: \\'\\',\\r\\n\\t\\t\\t\\t\\t\\ttarget: \\'_self\\',\\r\\n\\t\\t\\t\\t\\t\\ttext: \\'\\\\u9AD8\\\\u6D25\\\\u81E3\\\\u543E\\\\u76E3\\\\u7763\\\\u306F\\\\u3001\\\\u30D5\\\\u30A1\\\\u30F3\\\\u306B\\\\u5411\\\\u3051\\\\u3066\\\\u300C\\\\u65B0\\\\u4EBA\\\\u9078\\\\u624B\\\\u305F\\\\u3061\\\\u304C\\\\u30C1\\\\u30FC\\\\u30E0\\\\u3092\\\\u5F15\\\\u3063\\\\u5F35\\\\u3063\\\\u3066\\\\u304F\\\\u308C\\\\u308B\\\\u3068\\\\u4FE1\\\\u3058\\\\u3066\\\\u3044\\\\u307E\\\\u3059\\\\u3002\\\\u5F7C\\\\u3089\\\\u304C\\\\u4E00\\\\u4EBA\\\\u524D\\\\u306B\\\\u6210\\\\u9577\\\\u3059\\\\u308B\\\\u59FF\\\\u3092\\\\u3057\\\\u3063\\\\u304B\\\\u308A\\\\u76EE\\\\u306B\\\\u713C\\\\u304D\\\\u3064\\\\u3051\\\\u3066\\\\u307B\\\\u3057\\\\u3044\\\\u300D\\\\u3068\\\\u547C\\\\u3073\\\\u304B\\\\u3051\\\\u307E\\\\u3057\\\\u305F\\\\u3002<br \\\\/><br \\\\/>\\\\u65B0\\\\u4EBA\\\\u9078\\\\u624B\\\\u306F\\\\u3001\\\\u5E74\\\\u660E\\\\u3051\\\\u304B\\\\u3089\\\\u5408\\\\u540C\\\\u3067\\\\u81EA\\\\u4E3B\\\\u30C8\\\\u30EC\\\\u30FC\\\\u30CB\\\\u30F3\\\\u30B0\\\\u3092\\\\u884C\\\\u3044\\\\u30012\\\\u6708\\\\u304B\\\\u3089\\\\u59CB\\\\u307E\\\\u308B\\\\u6625\\\\u306E\\\\u30AD\\\\u30E3\\\\u30F3\\\\u30D7\\\\u306B\\\\u5099\\\\u3048\\\\u307E\\\\u3059\\\\u3002\\',\\r\\n\\t\\t\\t\\t\\t\\ttextPos: \\'bottom\\',\\r\\n\\t\\t\\t\\t\\t\\tcaption: \\'\\'\\r\\n\\t\\t\\t\\t\\t},{\\r\\n\\t\\t\\t\\t\\t\\tdetailType: \\'1\\',\\r\\n\\t\\t\\t\\t\\t\\ttitle: \\'\\\\u30C9\\\\u30E9\\\\u30D5\\\\u30C84\\\\u4F4D \\\\u9234\\\\u6728\\\\u53F6\\\\u300C\\\\u65E9\\\\u304F\\\\u795E\\\\u5BAE\\\\u7403\\\\u5834\\\\u3067\\\\u30D7\\\\u30EC\\\\u30FC\\\\u3057\\\\u305F\\\\u3044\\\\u300D\\',\\r\\n\\t\\t\\t\\t\\t\\timg: \\'\\',\\r\\n\\t\\t\\t\\t\\t\\talign: \\'\\',\\r\\n\\t\\t\\t\\t\\t\\tdecorateType: \\'0\\',\\r\\n\\t\\t\\t\\t\\t\\tdecorateColor: \\'\\',\\r\\n\\t\\t\\t\\t\\t\\tlinkurl: \\'\\',\\r\\n\\t\\t\\t\\t\\t\\ttarget: \\'_self\\',\\r\\n\\t\\t\\t\\t\\t\\ttext: \\'\\\\u30C9\\\\u30E9\\\\u30D5\\\\u30C8\\\\u4F1A\\\\u8B70\\\\u30674\\\\u4F4D\\\\u3067\\\\u6307\\\\u540D\\\\u3055\\\\u308C\\\\u305F\\\\u5E38\\\\u8449\\\\u5927\\\\u83CA\\\\u5DDD\\\\u9AD8\\\\u6821\\\\u306E\\\\u9234\\\\u6728\\\\u53F6\\\\u9078\\\\u624B\\\\u306F\\\\u300C\\\\u3059\\\\u3054\\\\u304F\\\\u3046\\\\u308C\\\\u3057\\\\u3044\\\\u6C17\\\\u6301\\\\u3061\\\\u3068\\\\u65E9\\\\u304F\\\\u795E\\\\u5BAE\\\\u7403\\\\u5834\\\\u3067\\\\u30D7\\\\u30EC\\\\u30FC\\\\u3057\\\\u305F\\\\u3044\\\\u3068\\\\u3044\\\\u3046\\\\u6C17\\\\u6301\\\\u3061\\\\u304C\\\\u5F37\\\\u304F\\\\u306A\\\\u3063\\\\u305F\\\\u3002\\\\u4E8C\\\\u5841\\\\u3078\\\\u306E\\\\u9001\\\\u7403\\\\u3068\\\\u30D5\\\\u30C3\\\\u30C8\\\\u30EF\\\\u30FC\\\\u30AF\\\\u3092\\\\u751F\\\\u304B\\\\u3057\\\\u305F\\\\u5B88\\\\u5099\\\\u529B\\\\u3092\\\\u307F\\\\u3066\\\\u307B\\\\u3057\\\\u3044\\\\u300D\\\\u3068\\\\u8A71\\\\u3057\\\\u307E\\\\u3057\\\\u305F\\\\u3002<br \\\\/><br \\\\/>\\\\u3053\\\\u308C\\\\u304B\\\\u3089\\\\u306E\\\\u76EE\\\\u6A19\\\\u306B\\\\u3064\\\\u3044\\\\u3066\\\\u300C\\\\u30AD\\\\u30E3\\\\u30C3\\\\u30C1\\\\u30E3\\\\u30FC\\\\u3068\\\\u3057\\\\u3066120\\\\u8A66\\\\u5408\\\\u4EE5\\\\u4E0A\\\\u51FA\\\\u5834\\\\u3067\\\\u304D\\\\u308B\\\\u9078\\\\u624B\\\\u306B\\\\u306A\\\\u308A\\\\u305F\\\\u3044\\\\u30021\\\\u5E74\\\\u76EE\\\\u306F\\\\u4F55\\\\u4E8B\\\\u306B\\\\u3082\\\\u6311\\\\u6226\\\\u3057\\\\u3001\\\\u3051\\\\u304C\\\\u306A\\\\u304F\\\\u30B7\\\\u30FC\\\\u30BA\\\\u30F3\\\\u3092\\\\u7D42\\\\u3048\\\\u305F\\\\u3044\\\\u300D\\\\u3068\\\\u529B\\\\u5F37\\\\u304F\\\\u8A71\\\\u3057\\\\u307E\\\\u3057\\\\u305F\\\\u3002\\',\\r\\n\\t\\t\\t\\t\\t\\ttextPos: \\'\\',\\r\\n\\t\\t\\t\\t\\t\\tcaption: \\'\\'\\r\\n\\t\\t\\t\\t\\t},{\\r\\n\\t\\t\\t\\t\\t\\tdetailType: \\'1\\',\\r\\n\\t\\t\\t\\t\\t\\ttitle: \\'\\\\u30C9\\\\u30E9\\\\u30D5\\\\u30C85\\\\u4F4D \\\\u4F0A\\\\u85E4\\\\u7409\\\\u5049\\\\u300C\\\\u30C1\\\\u30FC\\\\u30E0\\\\u306E\\\\u8EF8\\\\u3068\\\\u3044\\\\u308F\\\\u308C\\\\u308B\\\\u3088\\\\u3046\\\\u306B\\\\u300D\\',\\r\\n\\t\\t\\t\\t\\t\\timg: \\'\\',\\r\\n\\t\\t\\t\\t\\t\\talign: \\'\\',\\r\\n\\t\\t\\t\\t\\t\\tdecorateType: \\'0\\',\\r\\n\\t\\t\\t\\t\\t\\tdecorateColor: \\'\\',\\r\\n\\t\\t\\t\\t\\t\\tlinkurl: \\'\\',\\r\\n\\t\\t\\t\\t\\t\\ttarget: \\'_self\\',\\r\\n\\t\\t\\t\\t\\t\\ttext: \\'\\\\u30C9\\\\u30E9\\\\u30D5\\\\u30C8\\\\u4F1A\\\\u8B70\\\\u30675\\\\u4F4D\\\\u3067\\\\u6307\\\\u540D\\\\u3055\\\\u308C\\\\u305F\\\\u72EC\\\\u7ACB\\\\u30EA\\\\u30FC\\\\u30B0\\\\u3001\\\\u30AA\\\\u30A4\\\\u30B7\\\\u30C3\\\\u30AF\\\\u30B9\\\\u65B0\\\\u6F5F\\\\u30A2\\\\u30EB\\\\u30D3\\\\u30EC\\\\u30C3\\\\u30AF\\\\u30B9BC\\\\u306E\\\\u4F0A\\\\u85E4\\\\u7409\\\\u5049\\\\u9078\\\\u624B\\\\u306F\\\\u65B0\\\\u5165\\\\u56E3\\\\u9078\\\\u624B\\\\u306E\\\\u767A\\\\u8868\\\\u4F1A\\\\u3067\\\\u300C\\\\u5C0F\\\\u3055\\\\u3044\\\\u3053\\\\u308D\\\\u304B\\\\u3089\\\\u306E\\\\u5922\\\\u3060\\\\u3063\\\\u305F\\\\u30D7\\\\u30ED\\\\u3078\\\\u306E\\\\u5B9F\\\\u611F\\\\u304C\\\\u308F\\\\u3044\\\\u3066\\\\u3044\\\\u308B\\\\u3002\\\\u5B88\\\\u5099\\\\u304C\\\\u6301\\\\u3061\\\\u5473\\\\u306A\\\\u306E\\\\u3067\\\\u3001\\\\u305D\\\\u306E\\\\u4E2D\\\\u3067\\\\u3082\\\\u80A9\\\\u306E\\\\u5F37\\\\u3055\\\\u3068\\\\u7403\\\\u969B\\\\u306E\\\\u5F37\\\\u3055\\\\u3092\\\\u307F\\\\u3066\\\\u307B\\\\u3057\\\\u3044\\\\u300D\\\\u3068\\\\u8A71\\\\u3057\\\\u307E\\\\u3057\\\\u305F\\\\u3002<br \\\\/><br \\\\/>\\\\u305D\\\\u3057\\\\u3066\\\\u300C\\\\u7DF4\\\\u7FD2\\\\u304B\\\\u3089\\\\u304C\\\\u3080\\\\u3057\\\\u3083\\\\u3089\\\\u306B\\\\u3001\\\\u8A66\\\\u5408\\\\u3082\\\\u304C\\\\u3080\\\\u3057\\\\u3083\\\\u3089\\\\u306B\\\\u9811\\\\u5F35\\\\u3063\\\\u3066\\\\u30C1\\\\u30FC\\\\u30E0\\\\u306E\\\\u8EF8\\\\u3068\\\\u3044\\\\u308F\\\\u308C\\\\u308B\\\\u3088\\\\u3046\\\\u306A\\\\u9078\\\\u624B\\\\u306B\\\\u306A\\\\u3063\\\\u3066\\\\u3001\\\\u5C71\\\\u7530\\\\u54F2\\\\u4EBA\\\\u9078\\\\u624B\\\\u306E\\\\u3088\\\\u3046\\\\u306B\\\\u300E\\\\u30C8\\\\u30EA\\\\u30D7\\\\u30EB\\\\u30B9\\\\u30EA\\\\u30FC\\\\u300F\\\\u3092\\\\u3068\\\\u308C\\\\u308B\\\\u9078\\\\u624B\\\\u306B\\\\u306A\\\\u308A\\\\u305F\\\\u3044\\\\u300D\\\\u610F\\\\u6C17\\\\u8FBC\\\\u307F\\\\u3092\\\\u8A71\\\\u3057\\\\u307E\\\\u3057\\\\u305F\\\\u3002\\',\\r\\n\\t\\t\\t\\t\\t\\ttextPos: \\'\\',\\r\\n\\t\\t\\t\\t\\t\\tcaption: \\'\\'\\r\\n\\t\\t\\t\\t\\t},{\\r\\n\\t\\t\\t\\t\\t\\tdetailType: \\'1\\',\\r\\n\\t\\t\\t\\t\\t\\ttitle: \\'\\\\u80B2\\\\u62102\\\\u4F4D\\\\u306E\\\\u9AD8\\\\u91CE\\\\u98AF\\\\u592A\\\\u300C\\\\u6751\\\\u4E0A\\\\u9078\\\\u624B\\\\u3088\\\\u308A\\\\u3082\\\\u591A\\\\u304F\\\\u306E\\\\u30DB\\\\u30FC\\\\u30E0\\\\u30E9\\\\u30F3\\\\u3092\\\\u300D\\',\\r\\n\\t\\t\\t\\t\\t\\timg: \\'\\',\\r\\n\\t\\t\\t\\t\\t\\talign: \\'\\',\\r\\n\\t\\t\\t\\t\\t\\tdecorateType: \\'0\\',\\r\\n\\t\\t\\t\\t\\t\\tdecorateColor: \\'\\',\\r\\n\\t\\t\\t\\t\\t\\tlinkurl: \\'\\',\\r\\n\\t\\t\\t\\t\\t\\ttarget: \\'_self\\',\\r\\n\\t\\t\\t\\t\\t\\ttext: \\'\\\\u30C9\\\\u30E9\\\\u30D5\\\\u30C8\\\\u4F1A\\\\u8B70\\\\u3067\\\\u80B2\\\\u62102\\\\u4F4D\\\\u3067\\\\u6307\\\\u540D\\\\u3055\\\\u308C\\\\u305F\\\\u4E09\\\\u5200\\\\u5C4B\\\\u9AD8\\\\u6821\\\\u306E\\\\u9AD8\\\\u91CE\\\\u98AF\\\\u592A\\\\u9078\\\\u624B\\\\u306F\\\\u3001\\\\u65B0\\\\u5165\\\\u56E3\\\\u9078\\\\u624B\\\\u306E\\\\u767A\\\\u8868\\\\u4F1A\\\\u3067\\\\u300C\\\\u307E\\\\u305A\\\\u306F\\\\u652F\\\\u914D\\\\u4E0B\\\\u306B\\\\u306A\\\\u3063\\\\u3066\\\\u30E4\\\\u30AF\\\\u30EB\\\\u30C8\\\\u306E\\\\u6751\\\\u4E0A\\\\u9078\\\\u624B\\\\u3088\\\\u308A\\\\u3082\\\\u591A\\\\u304F\\\\u306E\\\\u30DB\\\\u30FC\\\\u30E0\\\\u30E9\\\\u30F3\\\\u3092\\\\u6253\\\\u3066\\\\u308B\\\\u9078\\\\u624B\\\\u306B\\\\u306A\\\\u308A\\\\u305F\\\\u3044\\\\u300D\\\\u3068\\\\u610F\\\\u6C17\\\\u8FBC\\\\u307F\\\\u3092\\\\u8A71\\\\u3057\\\\u307E\\\\u3057\\\\u305F\\\\u3002<br \\\\/><br \\\\/>\\\\u305D\\\\u3057\\\\u3066\\\\u300C\\\\u81EA\\\\u5206\\\\u306E\\\\u6301\\\\u3061\\\\u5473\\\\u306F\\\\u30D1\\\\u30EF\\\\u30FC\\\\u306A\\\\u306E\\\\u3067\\\\u30DB\\\\u30FC\\\\u30E0\\\\u30E9\\\\u30F3\\\\u3092\\\\u305F\\\\u304F\\\\u3055\\\\u3093\\\\u6253\\\\u3064\\\\u3068\\\\u3053\\\\u308D\\\\u3092\\\\u307F\\\\u3066\\\\u307B\\\\u3057\\\\u3044\\\\u300D\\\\u3068\\\\u8A71\\\\u3057\\\\u3001\\\\u5BFE\\\\u6226\\\\u3057\\\\u3066\\\\u307F\\\\u305F\\\\u3044\\\\u9078\\\\u624B\\\\u306B\\\\u3064\\\\u3044\\\\u3066\\\\u306F\\\\u300C\\\\u30ED\\\\u30C3\\\\u30C6\\\\u306E\\\\u4F50\\\\u3005\\\\u6728\\\\u6717\\\\u5E0C\\\\u6295\\\\u624B\\\\u306F\\\\u7403\\\\u304C\\\\u65E9\\\\u3044\\\\u306E\\\\u3067\\\\u3001\\\\u305D\\\\u306E\\\\u7403\\\\u3092\\\\u30B9\\\\u30BF\\\\u30F3\\\\u30C9\\\\u306B\\\\u5165\\\\u308C\\\\u305F\\\\u3044\\\\u300D\\\\u3068\\\\u529B\\\\u5F37\\\\u304F\\\\u8A71\\\\u3057\\\\u307E\\\\u3057\\\\u305F\\\\u3002\\',\\r\\n\\t\\t\\t\\t\\t\\ttextPos: \\'\\',\\r\\n\\t\\t\\t\\t\\t\\tcaption: \\'\\'\\r\\n\\t\\t\\t\\t\\t}],\\r\\n\\t\\t\\t\\t\\trelationNews: [\\r\\n\\t\\t\\t\\t\\t],\\r\\n\\t\\t\\t\\t\\trelationLink: [\\r\\n\\t\\t\\t\\t\\t],\\r\\n\\t\\t\\t\\t\\tmoreNews: [\\r\\n\\t\\t\\t\\t\\t],\\r\\n\\t\\t\\t\\t\\tword: [\\r\\n\\t\\t\\t\\t\\t\\t{\\r\\n\\t\\t\\t\\t\\t\\t\\tlink: \\'word\\\\/0000001.html\\',\\r\\n\\t\\t\\t\\t\\t\\t\\ttitle: \\'\\\\u30D7\\\\u30ED\\\\u91CE\\\\u7403\\',\\r\\n\\t\\t\\t\\t\\t\\t},\\r\\n\\t\\t\\t\\t\\t\\t{\\r\\n\\t\\t\\t\\t\\t\\t\\tlink: \\'word\\\\/0001591.html\\',\\r\\n\\t\\t\\t\\t\\t\\t\\ttitle: \\'\\\\u91CE\\\\u7403\\',\\r\\n\\t\\t\\t\\t\\t\\t},\\r\\n\\t\\t\\t\\t\\t\\t{\\r\\n\\t\\t\\t\\t\\t\\t\\tlink: \\'word\\\\/0002213.html\\',\\r\\n\\t\\t\\t\\t\\t\\t\\ttitle: \\'\\\\u6771\\\\u4EAC\\\\u90FD\\',\\r\\n\\t\\t\\t\\t\\t\\t}\\r\\n\\t\\t\\t\\t\\t]\\r\\n\\t\\t\\t\\t};\\n       </script>\\n      </article>\\n      <article class=\"module module--detail--v3\">\\n       <section class=\"module--detail-content\">\\n        <header class=\"content--detail-header\">\\n         <figure class=\"content--thumb\">\\n          <img alt=\"\" class=\"lazy\" data-src=\"/news/html/20231204/K10014277661_2312041731_1204173643_01_02.jpg\" src=\"/news/parts16/images/common/noimg_default_l.png\"/>\\n         </figure>\\n         <div class=\"content--detail-title\">\\n          <h1 class=\"content--title\">\\n           <span>\\n            ヤクルト新人入団発表 ドラフト1位西舘昂汰「新人王とりたい」\\n           </span>\\n          </h1>\\n          <p class=\"content--date\">\\n           <time datetime=\"2023-12-04T19:53:23\">\\n            2023年12月4日 19時53分\\n           </time>\\n           <a class=\"i-word\" href=\"/news/word/0000001.html\">\\n            プロ野球\\n           </a>\\n          </p>\\n         </div>\\n        </header>\\n        <div class=\"module--share none-screen\">\\n         <div class=\"nhk-snsbtn\" data-nhksns-description=\" \" data-nhksns-disable=\"google\">\\n         </div>\\n        </div>\\n        <section class=\"content--detail-main\">\\n         <div class=\"content--detail-body\">\\n          <p class=\"content--summary\" style=\"\">\\n           プロ野球 ヤクルトの新人選手の入団発表が行われ、ドラフト1位の専修大、西舘昂汰投手が「新人王をとりたい」と意気込みを話しました。\\n          </p>\\n          <div class=\"content--detail-more\">\\n           <section class=\"content--body\" datetime=\"\" style=\"\">\\n            <div class=\"body-text\">\\n             <p>\\n              ヤクルトの新人選手の入団発表は、抽せんで選ばれた120人のファンも参加して東京 港区で行われ、ことしのドラフト会議で指名された育成選手を含む6人が出席しました。\\n              <br/>\\n              <br/>\\n              このうち、ドラフト1位の西舘投手は身長1メートル88センチの長身から投げ下ろす最速152キロの力強いストレートと豊富なスタミナが持ち味の右ピッチャーで、先発ローテーションの一角として活躍することが期待されています。\\n              <br/>\\n              <br/>\\n              背番号「14」のユニフォームに袖を通した西舘投手は「プロになって特別に何かをするというわけではなく積み上げてきたものを自分の特徴だと思って貫いてやっていきたい」と話しました。\\n              <br/>\\n              <br/>\\n              そして、「身長が190センチ近くあり角度のあるストレートとスライダーは空振りをとれると思っているので、それを武器に頑張りたい。そして新人王をとりたい」と意気込みを語りました。\\n             </p>\\n            </div>\\n           </section>\\n           <section class=\"content--body type-bottom\" datetime=\"\" style=\"\">\\n            <figure class=\"body-img is-fluid\">\\n             <img alt=\"\" class=\"lazy\" data-src=\"/news/html/20231204/K10014277661_2312041731_1204173610_01_03.jpg\" src=\"/news/parts16/images/common/noimg_default.gif\"/>\\n            </figure>\\n            <div class=\"body-text\">\\n             <p>\\n              高津臣吾監督は、ファンに向けて「新人選手たちがチームを引っ張ってくれると信じています。彼らが一人前に成長する姿をしっかり目に焼きつけてほしい」と呼びかけました。\\n              <br/>\\n              <br/>\\n              新人選手は、年明けから合同で自主トレーニングを行い、2月から始まる春のキャンプに備えます。\\n             </p>\\n            </div>\\n           </section>\\n           <section class=\"content--body\" datetime=\"\" style=\"\">\\n            <h2 class=\"body-title\">\\n             ドラフト4位 鈴木叶「早く神宮球場でプレーしたい」\\n            </h2>\\n            <div class=\"body-text\">\\n             <p>\\n              ドラフト会議で4位で指名された常葉大菊川高校の鈴木叶選手は「すごくうれしい気持ちと早く神宮球場でプレーしたいという気持ちが強くなった。二塁への送球とフットワークを生かした守備力をみてほしい」と話しました。\\n              <br/>\\n              <br/>\\n              これからの目標について「キャッチャーとして120試合以上出場できる選手になりたい。1年目は何事にも挑戦し、けがなくシーズンを終えたい」と力強く話しました。\\n             </p>\\n            </div>\\n           </section>\\n           <section class=\"content--body\" datetime=\"\" style=\"\">\\n            <h2 class=\"body-title\">\\n             ドラフト5位 伊藤琉偉「チームの軸といわれるように」\\n            </h2>\\n            <div class=\"body-text\">\\n             <p>\\n              ドラフト会議で5位で指名された独立リーグ、オイシックス新潟アルビレックスBCの伊藤琉偉選手は新入団選手の発表会で「小さいころからの夢だったプロへの実感がわいている。守備が持ち味なので、その中でも肩の強さと球際の強さをみてほしい」と話しました。\\n              <br/>\\n              <br/>\\n              そして「練習からがむしゃらに、試合もがむしゃらに頑張ってチームの軸といわれるような選手になって、山田哲人選手のように『トリプルスリー』をとれる選手になりたい」意気込みを話しました。\\n             </p>\\n            </div>\\n           </section>\\n           <section class=\"content--body\" datetime=\"\" style=\"\">\\n            <h2 class=\"body-title\">\\n             育成2位の高野颯太「村上選手よりも多くのホームランを」\\n            </h2>\\n            <div class=\"body-text\">\\n             <p>\\n              ドラフト会議で育成2位で指名された三刀屋高校の高野颯太選手は、新入団選手の発表会で「まずは支配下になってヤクルトの村上選手よりも多くのホームランを打てる選手になりたい」と意気込みを話しました。\\n              <br/>\\n              <br/>\\n              そして「自分の持ち味はパワーなのでホームランをたくさん打つところをみてほしい」と話し、対戦してみたい選手については「ロッテの佐々木朗希投手は球が早いので、その球をスタンドに入れたい」と力強く話しました。\\n             </p>\\n            </div>\\n           </section>\\n          </div>\\n         </div>\\n        </section>\\n       </section>\\n      </article>\\n      <article class=\"module module--detail-morenews\">\\n      </article>\\n      <article class=\"module\">\\n       <footer class=\"module--footer back-link\">\\n        <p class=\"button\">\\n         <a href=\"/news/cat07.html\">\\n          <i class=\"i-arrow is-right_g\">\\n          </i>\\n          <span>\\n           スポーツ\\n          </span>\\n          ニュース一覧へ戻る\\n         </a>\\n        </p>\\n       </footer>\\n      </article>\\n      <aside class=\"module--share\" id=\"trigger-share-fixed\">\\n       <div class=\"nhk-snsbtn\" data-nhksns-description=\" \" data-nhksns-disable=\"google\">\\n       </div>\\n      </aside>\\n      <article class=\"module module--news-feature detail-feature\">\\n      </article>\\n      <article class=\"module module--special\">\\n      </article>\\n     </main>\\n     <!--/ #main -->\\n     <aside id=\"side\" role=\"complementary\">\\n      <div class=\"side-inner\" id=\"side-inner\">\\n       <article class=\"module_aside module_aside--earthquake\">\\n       </article>\\n       <article class=\"module_aside module_aside--search-widget none-mobile\">\\n       </article>\\n       <article class=\"module_aside module_aside--announce announce-weather--2212 none-mobile\">\\n       </article>\\n       <article class=\"module_aside module_aside--featured-movie\">\\n       </article>\\n       <article class=\"module_aside module_aside--ranking ranking-social--2107\">\\n       </article>\\n       <article class=\"module_aside module_aside--ranking ranking-access--2107\">\\n       </article>\\n       <article class=\"module_aside module_aside--news-latest-and-local\">\\n       </article>\\n       <article class=\"module_aside module_aside--news-closeup\">\\n       </article>\\n       <article class=\"module_aside module_aside--featured-program\">\\n       </article>\\n       <article class=\"module_aside module_aside--announce announce-sdc\">\\n       </article>\\n       <article class=\"module_aside module_aside--movie-related\">\\n       </article>\\n       <article class=\"module_aside module_aside--movie-ranking\">\\n       </article>\\n       <article class=\"module_aside module_aside--banner\">\\n       </article>\\n      </div>\\n      <!--/ #side-inner -->\\n     </aside>\\n     <!--/ #side -->\\n     <nav class=\"breadcrumb\" id=\"breadcrumb\">\\n     </nav>\\n     <nav class=\"pagetop\" id=\"pagetop\" onclick=\"_tc_onClick(s_omni, {\\'eVar58\\':\\'all_footer\\',\\'eVar59\\':\\'btn_pagetop\\'}, \\'click\\');\" role=\"navigation\">\\n      <a href=\"#wrapper\" title=\"ページの先頭へ戻る\">\\n       <i class=\"i-arrow is-up_w\">\\n        ページの先頭へ戻る\\n       </i>\\n      </a>\\n     </nav>\\n    </div>\\n    <!--/ #content-inner -->\\n    <footer id=\"footer\" role=\"contentinfo\">\\n    </footer>\\n    <!--/ #footer -->\\n    <aside id=\"nhkfooter\">\\n     <script>\\n      nol_showCmnFooter({mode:\\'full\\'});\\n     </script>\\n    </aside>\\n   </div>\\n   <!--/ #content -->\\n   <aside class=\"share-fixed\" role=\"complementary\">\\n    <div class=\"inner\">\\n     <p class=\"nhk-sns--title\">\\n      シェア\\n     </p>\\n     <div class=\"nhk-snsbtn\" data-nhksns-description=\" \" data-nhksns-disable=\"google\">\\n     </div>\\n    </div>\\n   </aside>\\n  </div>\\n  <!--/ #wrapper -->\\n  <script src=\"/news/parts16/js/vendor-v3.js?stamp=ph5110\">\\n  </script>\\n  <script src=\"/news/parts16/js/app.bundle-v3.js?stamp=ph5110\">\\n  </script>\\n  <script charset=\"UTF-8\" src=\"/news/parts16/js/chartbeat_config.js\">\\n  </script>\\n  <div id=\"bcpath\" style=\"display:none\">\\n   20231204/10014277661000\\n  </div>\\n  <script src=\"/news/parts16/js/bc.js\">\\n  </script>\\n </body>\\n</html>\\n'}"
      ]
     },
     "execution_count": 45,
     "metadata": {},
     "output_type": "execute_result"
    }
   ],
   "source": [
    "items[0]"
   ]
  },
  {
   "cell_type": "markdown",
   "metadata": {},
   "source": [
    "## Parse HTML\n"
   ]
  },
  {
   "cell_type": "code",
   "execution_count": 47,
   "metadata": {},
   "outputs": [
    {
     "name": "stderr",
     "output_type": "stream",
     "text": [
      "100%|██████████| 16397/16397 [01:14<00:00, 220.26it/s]\n"
     ]
    }
   ],
   "source": [
    "# 本文を取得して追加\n",
    "for item in tqdm(items):\n",
    "    # print(item[\"link\"])\n",
    "    if \"html\" not in item:\n",
    "        continue\n",
    "    soup = BeautifulSoup(item[\"html\"], \"lxml\")\n",
    "    summary_el = soup.select_one(\"p.content--summary\")\n",
    "    if summary_el is not None:\n",
    "        summary = summary_el.get_text(strip=True)\n",
    "    else:\n",
    "        summary = None\n",
    "\n",
    "    detail = soup.select_one(\"div.content--detail-more\")\n",
    "    if detail is not None:\n",
    "        detail = detail.get_text(strip=True)\n",
    "    else:\n",
    "        detail = None\n",
    "\n",
    "    item[\"summary\"] = summary\n",
    "    item[\"detail\"] = detail"
   ]
  },
  {
   "cell_type": "code",
   "execution_count": 48,
   "metadata": {},
   "outputs": [
    {
     "data": {
      "text/plain": [
       "{'id': '421002',\n",
       " 'title': '【プロ野球結果】楽天3位浮上 パ2位-4位までゲーム差1の大混戦',\n",
       " 'pubDate': 'Thu, 28 Sep 2023 23:39:00 +0900',\n",
       " 'cate': '7',\n",
       " 'cate_group': ['7'],\n",
       " 'link': '/news/html/20230928/k10014210021000.html',\n",
       " 'imgPath': '/news/html/20230928/K10014210021_2309282336_0928233918_01_02.jpg',\n",
       " 'iconPath': '/news/html/20230928/K10014210021_2309282336_0928233918_01_02.jpg',\n",
       " 'videoPath': '',\n",
       " 'videoDuration': '0',\n",
       " 'relationNews': [],\n",
       " 'html': '<!DOCTYPE HTML>\\n<!--[if lt IE 7]>      <html class=\"no-js lt-ie9 lt-ie8 lt-ie7 eq-ie6\"> <![endif]-->\\n<!--[if IE 7]>         <html class=\"no-js lt-ie9 lt-ie8 eq-ie7\"> <![endif]-->\\n<!--[if IE 8]>         <html class=\"no-js lt-ie9 eq-ie8\"> <![endif]-->\\n<!--[if gt IE 8]><!-->\\n<html class=\"no-js\">\\n <!--<![endif]-->\\n <head prefix=\"og: http://ogp.me/ns# fb: http://ogp.me/ns/fb# website: http://ogp.me/ns/website#\">\\n  <meta charset=\"utf-8\"/>\\n  <meta content=\"IE=edge\" http-equiv=\"X-UA-Compatible\"/>\\n  <meta content=\"requiresActiveX=true\" http-equiv=\"X-UA-Compatible\"/>\\n  <title>\\n   【プロ野球結果】楽天3位浮上 パ2位-4位までゲーム差1の大混戦 | NHK | プロ野球\\n  </title>\\n  <meta content=\"noodp,noarchive\" name=\"robots\"/>\\n  <meta content=\"プロ野球,スポーツ,NHK,ニュース,NHK NEWS WEB\" name=\"keywords\"/>\\n  <meta content=\"【NHK】プロ野球はパ・リーグの2試合が行われ、クライマックスシリーズ進出争いは3位のロッテが敗れ、勝った楽天が1日で入れかわって…\" name=\"description\"/>\\n  <meta content=\"NHK(Japan Broadcasting Corporation)\" name=\"copyright\"/>\\n  <meta content=\"日本放送協会\" name=\"author\"/>\\n  <meta content=\"Japan\" name=\"Targeted Geographic Area\"/>\\n  <meta content=\"Japan\" name=\"coverage\"/>\\n  <meta content=\"general\" name=\"rating\"/>\\n  <meta content=\"ja\" name=\"content-language\"/>\\n  <meta content=\"index,follow\" name=\"robots\"/>\\n  <meta content=\"telephone=no\" name=\"format-detection\"/>\\n  <meta content=\"width=device-width,initial-scale=1\" name=\"viewport\"/>\\n  <meta content=\"NHKニュース\" property=\"og:site_name\"/>\\n  <meta content=\"【プロ野球結果】楽天3位浮上 パ2位-4位までゲーム差1の大混戦 | NHK\" property=\"og:title\"/>\\n  <meta content=\"ja_JP\" property=\"og:locale\"/>\\n  <meta content=\"【NHK】プロ野球はパ・リーグの2試合が行われ、クライマックスシリーズ進出争いは3位のロッテが敗れ、勝った楽天が1日で入れかわって…\" property=\"og:description\"/>\\n  <meta content=\"https://www3.nhk.or.jp/news/html/20230928/k10014210021000.html\" property=\"og:url\"/>\\n  <meta content=\"https://www3.nhk.or.jp/news/html/20230928/K10014210021_2309282336_0928233918_01_02.jpg\" property=\"og:image\"/>\\n  <meta content=\"https://www3.nhk.or.jp/news/html/20230928/K10014210021_2309282336_0928233918_01_02.jpg\" property=\"og:image:secure_url\"/>\\n  <meta content=\"article\" property=\"og:type\"/>\\n  <meta content=\"157582317936888\" property=\"fb:app_id\"/>\\n  <meta content=\"summary_large_image\" name=\"twitter:card\"/>\\n  <meta content=\"@nhk_news\" name=\"twitter:site\"/>\\n  <meta content=\"@nhk_news\" name=\"twitter:creator\"/>\\n  <meta content=\"#0076d1\" name=\"theme-color\"/>\\n  <!-- meta-theme-color for Chrome -->\\n  <meta content=\"/news/browserconfig.xml\" name=\"msapplication-config\"/>\\n  <meta content=\"/news/parts16/images/favicon/apple-touch-icon-180x180-precomposed.png\" name=\"msapplication-TileImage\"/>\\n  <meta content=\"#0076d1\" name=\"msapplication-TileColor\"/>\\n  <link href=\"/news/manifest.json\" rel=\"manifest\"/>\\n  <link href=\"/news/parts16/images/favicon/favicon.ico\" rel=\"shortcut icon\" type=\"image/x-icon\"/>\\n  <link href=\"/news/parts16/images/favicon/apple-touch-icon-180x180-precomposed.png\" rel=\"apple-touch-icon-precomposed\" sizes=\"180x180\"/>\\n  <link href=\"http://k.nhk.jp/knews/20230928/k10014210021000.html\" media=\"handheld\" rel=\"alternate\"/>\\n  <link href=\"https://www3.nhk.or.jp/news/html/20230928/k10014210021000.html\" rel=\"canonical\"/>\\n  <link href=\"https://www3.nhk.or.jp/news/html/20230928/amp/k10014210021000.html\" rel=\"amphtml\"/>\\n  <script type=\"application/ld+json\">\\n   {\\r\\n  \"@context\": \"http://schema.org\",\\r\\n  \"@type\": \"Organization\",\\r\\n  \"@id\": \"https://www3.nhk.or.jp/news/#org\",\\r\\n  \"name\": \"NHK NEWS WEB\",\\r\\n  \"logo\": {\\r\\n    \"@type\": \"ImageObject\",\\r\\n    \"url\": \"https://www3.nhk.or.jp/news/parts16/images/common/logo-amp.png\",\\r\\n    \"width\": 600,\\r\\n    \"height\": 60\\r\\n  }\\r\\n}\\n  </script>\\n  <script type=\"application/ld+json\">\\n   {\\r\\n  \"@context\": \"http://schema.org\",\\r\\n  \"@type\": \"Organization\",\\r\\n  \"@id\": \"https://www3.nhk.or.jp/news/#author\",\\r\\n  \"name\": \"日本放送協会\",\\r\\n  \"url\": \"https://www.nhk.or.jp/\",\\r\\n  \"image\": \"https://www3.nhk.or.jp/news/parts16/images/favicon/apple-touch-icon-180x180-precomposed.png\"\\r\\n}\\n  </script>\\n  <script type=\"application/ld+json\">\\n   {\\r\\n  \"@context\": \"http://schema.org\",\\r\\n  \"@type\": \"NewsArticle\",\\r\\n  \"mainEntityOfPage\": {\\r\\n    \"@type\": \"WebPage\",\\r\\n    \"@id\": \"https://www3.nhk.or.jp/news/html/20230928/k10014210021000.html\"\\r\\n  },\\r\\n  \"inLanguage\": \"ja\",\\r\\n  \"headline\": \"【プロ野球結果】楽天3位浮上 パ2位-4位までゲーム差1の大混戦\",\\r\\n  \"description\": \"プロ野球はパ・リーグの2試合が行われ、クライマックスシリーズ進出争いは3位のロッテが敗れ、勝った楽天が1日で入れかわって…\",\\r\\n  \"identifier\": \"k10014210021000\",\\r\\n  \"articleSection\": \"一般\",\\r\\n  \"genre\": [\"スポーツ\"],\\r\\n  \"keywords\": [\"プロ野球\"],\\r\\n  \"image\": [{\\r\\n    \"@type\": \"ImageObject\",\\r\\n    \"url\": \"https://www3.nhk.or.jp/news/html/20230928/K10014210021_2309282336_0928233918_01_02.jpg\",\\r\\n    \"width\": 640,\\r\\n    \"height\": 360\\r\\n  }],\\r\\n  \"datePublished\": \"2023-09-28T23:39:16+09:00\",\\r\\n  \"dateModified\": \"2023-09-29T09:46:36+09:00\",\\r\\n  \"publisher\": {\\r\\n    \"@id\": \"https://www3.nhk.or.jp/news/#org\"\\r\\n  },\\r\\n  \"author\": {\\r\\n    \"@id\": \"https://www3.nhk.or.jp/news/#author\"\\r\\n  }\\r\\n}\\n  </script>\\n  <script src=\"/common/js/nol_tools.js\">\\n  </script>\\n  <link href=\"/news/parts16/css/reset-v3.css?stamp=ph5100\" rel=\"stylesheet\"/>\\n  <link href=\"/news/parts16/css/style-v3.css?stamp=ph5100\" rel=\"stylesheet\"/>\\n  <script src=\"/news/parts16/js/pre.bundle-v3.js?stamp=ph5100\">\\n  </script>\\n  <script async=\"async\" src=\"/news/parts16/js/modernizr.js\">\\n  </script>\\n  <script charset=\"utf-8\" src=\"/common/sp/nol_SmartPhone.js\">\\n  </script>\\n  <script charset=\"UTF-8\" src=\"/common/sns/nol_share.js\">\\n  </script>\\n  <script charset=\"UTF-8\" src=\"/news/r/js/exist.js\">\\n  </script>\\n  <script>\\n   NHKSNS.initSNSOnLoad();\\n  </script>\\n  <script type=\"text/javascript\">\\n   var _sf_startpt = (new Date()).getTime();var _cb_sections_preset = \\'一般記事,スポーツ\\'; var _cb_sections_preset_tags = [\"プロ野球\"];\\n  </script>\\n </head>\\n <body class=\"detail news-sports\">\\n  <section id=\"appsbanner\">\\n   <script>\\n    NEWSPRE.preAppsBanner()\\n   </script>\\n  </section>\\n  <aside id=\"nhkheader\">\\n   <script>\\n    nol_showCmnHeader({design:\\'gray\\'});\\n   </script>\\n  </aside>\\n  <!--/ #nhkheader -->\\n  <aside class=\"module--news-flash\" role=\"complementary\">\\n  </aside>\\n  <!--/ .flash_news -->\\n  <aside class=\"module--modal is-close\">\\n  </aside>\\n  <!--/ .module_modal -->\\n  <div id=\"wrapper\">\\n   <header id=\"header\" role=\"banner\">\\n   </header>\\n   <!--/ #header -->\\n   <div id=\"content\">\\n    <div id=\"content-inner\">\\n     <noscript>\\n      このページではJavaScriptを使用しています。\\n     </noscript>\\n     <aside class=\"module--hot-trends\">\\n     </aside>\\n     <!--/ .hot_trends -->\\n     <main id=\"main\" role=\"main\">\\n      <article class=\"module module--site-information\">\\n      </article>\\n      <article class=\"module module--notifications\">\\n      </article>\\n      <article class=\"module module--detail\">\\n       <script type=\"text/javascript\">\\n        var __DetailProp__ = {\\r\\n\\t\\t\\t\\t\\tcate: \\'7\\',\\r\\n\\t\\t\\t\\t\\tdate: \\'9月28日 23時39分\\',\\r\\n\\t\\t\\t\\t\\tdatetime: \\'2023-09-28T23:39\\',\\r\\n\\t\\t\\t\\t\\t//id: \\'k10014210021000\\',\\r\\n\\t\\t\\t\\t\\t//video: \\'\\',\\r\\n\\t\\t\\t\\t\\tvideo: \\'\\',\\r\\n\\t\\t\\t\\t\\tduration: 0,\\r\\n\\t\\t\\t\\t\\timg: \\'html\\\\/20230928\\\\/K10014210021_2309282336_0928233918_01_02.jpg\\',\\r\\n\\t\\t\\t\\t\\ttitle: \\'\\\\u3010\\\\u30D7\\\\u30ED\\\\u91CE\\\\u7403\\\\u7D50\\\\u679C\\\\u3011\\\\u697D\\\\u59293\\\\u4F4D\\\\u6D6E\\\\u4E0A \\\\u30D12\\\\u4F4D-4\\\\u4F4D\\\\u307E\\\\u3067\\\\u30B2\\\\u30FC\\\\u30E0\\\\u5DEE1\\\\u306E\\\\u5927\\\\u6DF7\\\\u6226\\',\\r\\n\\t\\t\\t\\t\\tsummary: \\'\\\\u30D7\\\\u30ED\\\\u91CE\\\\u7403\\\\u306F\\\\u30D1\\\\u30FB\\\\u30EA\\\\u30FC\\\\u30B0\\\\u306E2\\\\u8A66\\\\u5408\\\\u304C\\\\u884C\\\\u308F\\\\u308C\\\\u3001\\\\u30AF\\\\u30E9\\\\u30A4\\\\u30DE\\\\u30C3\\\\u30AF\\\\u30B9\\\\u30B7\\\\u30EA\\\\u30FC\\\\u30BA\\\\u9032\\\\u51FA\\\\u4E89\\\\u3044\\\\u306F3\\\\u4F4D\\\\u306E\\\\u30ED\\\\u30C3\\\\u30C6\\\\u304C\\\\u6557\\\\u308C\\\\u3001\\\\u52DD\\\\u3063\\\\u305F\\\\u697D\\\\u5929\\\\u304C1\\\\u65E5\\\\u3067\\\\u5165\\\\u308C\\\\u304B\\\\u308F\\\\u3063\\\\u30663\\\\u4F4D\\\\u306B\\\\u6D6E\\\\u4E0A\\\\u3057\\\\u307E\\\\u3057\\\\u305F\\\\u30022\\\\u4F4D\\\\u30FB\\\\u30BD\\\\u30D5\\\\u30C8\\\\u30D0\\\\u30F3\\\\u30AF\\\\u306F\\\\u8A66\\\\u5408\\\\u304C\\\\u306A\\\\u304F\\\\u30012\\\\u4F4D\\\\u304B\\\\u30894\\\\u4F4D\\\\u307E\\\\u3067\\\\u306E\\\\u30B2\\\\u30FC\\\\u30E0\\\\u5DEE\\\\u306F1\\\\u306E\\\\u5927\\\\u6DF7\\\\u6226\\\\u3067\\\\u3059\\\\u3002\\',\\r\\n\\t\\t\\t\\t\\tmore: \\'\\',\\r\\n\\t\\t\\t\\t\\tcaption: \\'\\',\\r\\n\\t\\t\\t\\t\\tbody: [{\\r\\n\\t\\t\\t\\t\\t\\tdetailType: \\'1\\',\\r\\n\\t\\t\\t\\t\\t\\ttitle: \\'\\\\u300A\\\\u30D1\\\\u30FB\\\\u30EA\\\\u30FC\\\\u30B0\\\\u300B\\',\\r\\n\\t\\t\\t\\t\\t\\timg: \\'\\',\\r\\n\\t\\t\\t\\t\\t\\talign: \\'\\',\\r\\n\\t\\t\\t\\t\\t\\tdecorateType: \\'0\\',\\r\\n\\t\\t\\t\\t\\t\\tdecorateColor: \\'\\',\\r\\n\\t\\t\\t\\t\\t\\tlinkurl: \\'\\',\\r\\n\\t\\t\\t\\t\\t\\ttarget: \\'_self\\',\\r\\n\\t\\t\\t\\t\\t\\ttext: \\'\\',\\r\\n\\t\\t\\t\\t\\t\\ttextPos: \\'\\',\\r\\n\\t\\t\\t\\t\\t\\tcaption: \\'\\'\\r\\n\\t\\t\\t\\t\\t},{\\r\\n\\t\\t\\t\\t\\t\\tdetailType: \\'1\\',\\r\\n\\t\\t\\t\\t\\t\\ttitle: \\'\\\\u65E5\\\\u672C\\\\u30CF\\\\u30E0\\\\u00D7\\\\u30ED\\\\u30C3\\\\u30C6\\',\\r\\n\\t\\t\\t\\t\\t\\timg: \\'\\',\\r\\n\\t\\t\\t\\t\\t\\talign: \\'\\',\\r\\n\\t\\t\\t\\t\\t\\tdecorateType: \\'0\\',\\r\\n\\t\\t\\t\\t\\t\\tdecorateColor: \\'\\',\\r\\n\\t\\t\\t\\t\\t\\tlinkurl: \\'\\',\\r\\n\\t\\t\\t\\t\\t\\ttarget: \\'_self\\',\\r\\n\\t\\t\\t\\t\\t\\ttext: \\'\\\\u65E5\\\\u672C\\\\u30CF\\\\u30E0\\\\u5BFE\\\\u30ED\\\\u30C3\\\\u30C6\\\\u306F\\\\u65E5\\\\u672C\\\\u30CF\\\\u30E0\\\\u304C9\\\\u5BFE2\\\\u3067\\\\u52DD\\\\u3061\\\\u307E\\\\u3057\\\\u305F\\\\u3002<br \\\\/>\\\\u25CB\\\\u52DD\\\\u3061:\\\\u6839\\\\u672C\\\\u6295\\\\u624B3\\\\u52DD<br \\\\/>\\\\u25CF\\\\u8CA0\\\\u3051:\\\\u7A2E\\\\u5E02\\\\u6295\\\\u624B10\\\\u52DD7\\\\u6557<br \\\\/>\\\\u25CE\\\\u30DB\\\\u30FC\\\\u30E0\\\\u30E9\\\\u30F3:\\\\u65E5\\\\u672C\\\\u30CF\\\\u30E0\\\\u30FB\\\\u91CE\\\\u6751\\\\u9078\\\\u624B13\\\\u53F7<br \\\\/><br \\\\/>\\\\u65E5\\\\u672C\\\\u30CF\\\\u30E0\\\\u306F2\\\\u56DE\\\\u3001\\\\u7530\\\\u5BAE\\\\u9078\\\\u624B\\\\u306E\\\\u30BF\\\\u30A4\\\\u30E0\\\\u30EA\\\\u30FC\\\\u30D2\\\\u30C3\\\\u30C8\\\\u30672\\\\u5BFE1\\\\u3068\\\\u52DD\\\\u3061\\\\u8D8A\\\\u3057\\\\u30013\\\\u56DE\\\\u306B\\\\u30821\\\\u70B9\\\\u3092\\\\u52A0\\\\u3048\\\\u307E\\\\u3057\\\\u305F\\\\u3002\\\\u3055\\\\u3089\\\\u306B4\\\\u56DE\\\\u306B\\\\u306F\\\\u30C4\\\\u30FC\\\\u30A2\\\\u30A6\\\\u30C8\\\\u30E9\\\\u30F3\\\\u30CA\\\\u30FC\\\\u306A\\\\u3057\\\\u304B\\\\u3089\\\\u3001\\\\u4E07\\\\u6CE2\\\\u9078\\\\u624B\\\\u3084\\\\u6E05\\\\u5BAE\\\\u9078\\\\u624B\\\\u30895\\\\u8005\\\\u9023\\\\u7D9A\\\\u306E\\\\u30BF\\\\u30A4\\\\u30E0\\\\u30EA\\\\u30FC\\\\u3092\\\\u542B\\\\u30807\\\\u672C\\\\u9023\\\\u7D9A\\\\u306E\\\\u30D2\\\\u30C3\\\\u30C8\\\\u3067\\\\u4E00\\\\u6319\\\\u306B5\\\\u70B9\\\\u3092\\\\u596A\\\\u3044\\\\u3001\\\\u7A81\\\\u304D\\\\u653E\\\\u3057\\\\u307E\\\\u3057\\\\u305F\\\\u3002\\\\u5148\\\\u767A\\\\u306E\\\\u6839\\\\u672C\\\\u6295\\\\u624B\\\\u306F6\\\\u56DE\\\\u3092\\\\u30D2\\\\u30C3\\\\u30C84\\\\u672C1\\\\u5931\\\\u70B9\\\\u30673\\\\u52DD\\\\u76EE\\\\u3092\\\\u3042\\\\u3052\\\\u307E\\\\u3057\\\\u305F\\\\u3002<br \\\\/><br \\\\/>\\\\u30ED\\\\u30C3\\\\u30C6\\\\u306F\\\\u5148\\\\u767A\\\\u306E\\\\u7A2E\\\\u5E02\\\\u6295\\\\u624B\\\\u304C4\\\\u56DE\\\\u9014\\\\u4E2D\\\\u3001\\\\u30D2\\\\u30C3\\\\u30C811\\\\u672C\\\\u30678\\\\u5931\\\\u70B9\\\\u3068\\\\u5D29\\\\u308C\\\\u3001\\\\u518D\\\\u30734\\\\u4F4D\\\\u306B\\\\u5F8C\\\\u9000\\\\u3057\\\\u307E\\\\u3057\\\\u305F\\\\u3002\\',\\r\\n\\t\\t\\t\\t\\t\\ttextPos: \\'\\',\\r\\n\\t\\t\\t\\t\\t\\tcaption: \\'\\'\\r\\n\\t\\t\\t\\t\\t},{\\r\\n\\t\\t\\t\\t\\t\\tdetailType: \\'1\\',\\r\\n\\t\\t\\t\\t\\t\\ttitle: \\'\\\\u697D\\\\u5929\\\\u00D7\\\\u30AA\\\\u30EA\\\\u30C3\\\\u30AF\\\\u30B9\\',\\r\\n\\t\\t\\t\\t\\t\\timg: \\'\\',\\r\\n\\t\\t\\t\\t\\t\\talign: \\'\\',\\r\\n\\t\\t\\t\\t\\t\\tdecorateType: \\'0\\',\\r\\n\\t\\t\\t\\t\\t\\tdecorateColor: \\'\\',\\r\\n\\t\\t\\t\\t\\t\\tlinkurl: \\'\\',\\r\\n\\t\\t\\t\\t\\t\\ttarget: \\'_self\\',\\r\\n\\t\\t\\t\\t\\t\\ttext: \\'\\\\u697D\\\\u5929\\\\u5BFE\\\\u30AA\\\\u30EA\\\\u30C3\\\\u30AF\\\\u30B9\\\\u306F\\\\u697D\\\\u5929\\\\u304C9\\\\u5BFE5\\\\u3067\\\\u52DD\\\\u3061\\\\u307E\\\\u3057\\\\u305F\\\\u3002<br \\\\/>\\\\u25CB\\\\u52DD\\\\u3061:\\\\u5B89\\\\u6A02\\\\u6295\\\\u624B3\\\\u52DD2\\\\u6557<br \\\\/>\\\\u25CF\\\\u8CA0\\\\u3051:\\\\u963F\\\\u90E8\\\\u6295\\\\u624B3\\\\u52DD5\\\\u65571\\\\u30BB\\\\u30FC\\\\u30D6<br \\\\/>\\\\u25CE\\\\u30DB\\\\u30FC\\\\u30E0\\\\u30E9\\\\u30F3:<br \\\\/>\\\\u697D\\\\u5929\\\\u30FB\\\\u9234\\\\u6728\\\\u5927\\\\u5730\\\\u9078\\\\u624B5\\\\u53F7<br \\\\/>\\\\u30AA\\\\u30EA\\\\u30C3\\\\u30AF\\\\u30B9\\\\u30FB\\\\u91CE\\\\u53E3\\\\u9078\\\\u624B2\\\\u53F7<br \\\\/><br \\\\/>\\\\u697D\\\\u5929\\\\u306F4\\\\u5BFE5\\\\u30681\\\\u70B9\\\\u3092\\\\u8FFD\\\\u30468\\\\u56DE\\\\u3001\\\\u30CE\\\\u30FC\\\\u30A2\\\\u30A6\\\\u30C8\\\\u6E80\\\\u5841\\\\u306E\\\\u30C1\\\\u30E3\\\\u30F3\\\\u30B9\\\\u304B\\\\u3089\\\\u5CA1\\\\u5CF6\\\\u9078\\\\u624B\\\\u306E\\\\u30BF\\\\u30A4\\\\u30E0\\\\u30EA\\\\u30FC\\\\u30D2\\\\u30C3\\\\u30C8\\\\u3067\\\\u8FFD\\\\u3044\\\\u3064\\\\u304D\\\\u3001\\\\u3055\\\\u3089\\\\u306B\\\\u6751\\\\u6797\\\\u9078\\\\u624B\\\\u3084\\\\u5C0F\\\\u90F7\\\\u9078\\\\u624B\\\\u306E\\\\u30BF\\\\u30A4\\\\u30E0\\\\u30EA\\\\u30FC\\\\u306A\\\\u3069\\\\u6253\\\\u800511\\\\u4EBA\\\\u306E\\\\u653B\\\\u6483\\\\u3067\\\\u3001\\\\u3053\\\\u306E\\\\u56DE\\\\u4E00\\\\u6319\\\\u306B5\\\\u70B9\\\\u3092\\\\u596A\\\\u3044\\\\u9006\\\\u8EE2\\\\u3057\\\\u307E\\\\u3057\\\\u305F\\\\u30026\\\\u4EBA\\\\u76EE\\\\u30671\\\\u30A4\\\\u30CB\\\\u30F3\\\\u30B0\\\\u3092\\\\u7121\\\\u5931\\\\u70B9\\\\u306B\\\\u6291\\\\u3048\\\\u305F\\\\u5B89\\\\u6A02\\\\u6295\\\\u624B\\\\u304C3\\\\u52DD\\\\u76EE\\\\u3092\\\\u3042\\\\u3052\\\\u3001\\\\u697D\\\\u5929\\\\u306F3\\\\u4F4D\\\\u306B\\\\u6D6E\\\\u4E0A\\\\u3057\\\\u307E\\\\u3057\\\\u305F\\\\u3002<br \\\\/><br \\\\/>\\\\u30AA\\\\u30EA\\\\u30C3\\\\u30AF\\\\u30B9\\\\u306F7\\\\u56DE\\\\u306B\\\\u52DD\\\\u3061\\\\u8D8A\\\\u3057\\\\u307E\\\\u3057\\\\u305F\\\\u304C\\\\u30013\\\\u4EBA\\\\u76EE\\\\u306E\\\\u963F\\\\u90E8\\\\u6295\\\\u624B\\\\u304C\\\\u6253\\\\u3061\\\\u8FBC\\\\u307E\\\\u308C\\\\u307E\\\\u3057\\\\u305F\\\\u3002\\',\\r\\n\\t\\t\\t\\t\\t\\ttextPos: \\'\\',\\r\\n\\t\\t\\t\\t\\t\\tcaption: \\'\\'\\r\\n\\t\\t\\t\\t\\t}],\\r\\n\\t\\t\\t\\t\\trelationNews: [\\r\\n\\t\\t\\t\\t\\t\\t{\\r\\n\\t\\t\\t\\t\\t\\t\\tlink: \\'html\\\\/20230928\\\\/k10014208911000.html\\',\\r\\n\\t\\t\\t\\t\\t\\t\\ttitle: \\'\\\\u5DE8\\\\u4EBA \\\\u677E\\\\u7530\\\\u5BA3\\\\u6D69 \\\\u4ECA\\\\u30B7\\\\u30FC\\\\u30BA\\\\u30F3\\\\u3067\\\\u73FE\\\\u5F79\\\\u5F15\\\\u9000\\\\u3078\\',\\r\\n\\t\\t\\t\\t\\t\\t\\tdate: \\'9\\\\u670828\\\\u65E5  20\\\\u664210\\\\u5206\\',\\r\\n\\t\\t\\t\\t\\t\\t\\tdatetime: \\'2023-09-28T20:10\\',\\r\\n\\t\\t\\t\\t\\t\\t\\timgPath: \\'html\\\\/20230928\\\\/K10014208911_2309282041_0928204320_01_02.jpg\\',\\r\\n\\t\\t\\t\\t\\t\\t\\ticonPath: \\'html\\\\/20230928\\\\/K10014208911_2309282041_0928204320_02_01.jpg\\',\\r\\n\\t\\t\\t\\t\\t\\t\\tvideo: \\'\\',\\r\\n\\t\\t\\t\\t\\t\\t\\tduration: 0\\r\\n\\t\\t\\t\\t\\t\\t},\\r\\n\\t\\t\\t\\t\\t\\t{\\r\\n\\t\\t\\t\\t\\t\\t\\tlink: \\'html\\\\/20230928\\\\/k10014209021000.html\\',\\r\\n\\t\\t\\t\\t\\t\\t\\ttitle: \\'\\\\u30E1\\\\u30C3\\\\u30C4 \\\\u5343\\\\u8CC0\\\\u6EC9\\\\u5927 \\\\u30B7\\\\u30FC\\\\u30BA\\\\u30F3200\\\\u596A\\\\u4E09\\\\u632F\\\\u306B\\\\u5230\\\\u9054\\',\\r\\n\\t\\t\\t\\t\\t\\t\\tdate: \\'9\\\\u670828\\\\u65E5  17\\\\u664210\\\\u5206\\',\\r\\n\\t\\t\\t\\t\\t\\t\\tdatetime: \\'2023-09-28T17:10\\',\\r\\n\\t\\t\\t\\t\\t\\t\\timgPath: \\'html\\\\/20230928\\\\/K10014209021_2309281201_0928124823_01_02.jpg\\',\\r\\n\\t\\t\\t\\t\\t\\t\\ticonPath: \\'html\\\\/20230928\\\\/K10014209021_2309281201_0928124823_02_01.jpg\\',\\r\\n\\t\\t\\t\\t\\t\\t\\tvideo: \\'\\',\\r\\n\\t\\t\\t\\t\\t\\t\\tduration: 0\\r\\n\\t\\t\\t\\t\\t\\t},\\r\\n\\t\\t\\t\\t\\t\\t{\\r\\n\\t\\t\\t\\t\\t\\t\\tlink: \\'html\\\\/20230928\\\\/k10014209321000.html\\',\\r\\n\\t\\t\\t\\t\\t\\t\\ttitle: \\'\\\\u5927\\\\u30EA\\\\u30FC\\\\u30B0 \\\\u30EC\\\\u30F3\\\\u30B8\\\\u30E3\\\\u30FC\\\\u30BA \\\\u30AC\\\\u30EB\\\\u30B7\\\\u30A2\\\\u304C38\\\\u53F7HR \\\\u5927\\\\u8C37\\\\u7FD4\\\\u5E73\\\\u30686\\\\u672C\\\\u5DEE\\\\u306B\\',\\r\\n\\t\\t\\t\\t\\t\\t\\tdate: \\'9\\\\u670828\\\\u65E5  16\\\\u664218\\\\u5206\\',\\r\\n\\t\\t\\t\\t\\t\\t\\tdatetime: \\'2023-09-28T16:18\\',\\r\\n\\t\\t\\t\\t\\t\\t\\timgPath: \\'html\\\\/20230928\\\\/K10014209321_2309281607_0928161816_01_02.jpg\\',\\r\\n\\t\\t\\t\\t\\t\\t\\ticonPath: \\'html\\\\/20230928\\\\/K10014209321_2309281607_0928161816_02_01.jpg\\',\\r\\n\\t\\t\\t\\t\\t\\t\\tvideo: \\'\\',\\r\\n\\t\\t\\t\\t\\t\\t\\tduration: 0\\r\\n\\t\\t\\t\\t\\t\\t},\\r\\n\\t\\t\\t\\t\\t\\t{\\r\\n\\t\\t\\t\\t\\t\\t\\tlink: \\'html\\\\/20230928\\\\/k10014209121000.html\\',\\r\\n\\t\\t\\t\\t\\t\\t\\ttitle: \\'\\\\u5927\\\\u30EA\\\\u30FC\\\\u30B0\\\\u521D \\\\u30A2\\\\u30AF\\\\u30FC\\\\u30CB\\\\u30E3Jr. \\\\u4ECA\\\\u5B63\\\\u30DB\\\\u30FC\\\\u30E0\\\\u30E9\\\\u30F340\\\\u672C\\\\u306870\\\\u76D7\\\\u5841\\\\u3092\\\\u9054\\\\u6210\\',\\r\\n\\t\\t\\t\\t\\t\\t\\tdate: \\'9\\\\u670828\\\\u65E5  15\\\\u664258\\\\u5206\\',\\r\\n\\t\\t\\t\\t\\t\\t\\tdatetime: \\'2023-09-28T15:58\\',\\r\\n\\t\\t\\t\\t\\t\\t\\timgPath: \\'html\\\\/20230928\\\\/K10014209121_2309281337_0928140946_01_02.jpg\\',\\r\\n\\t\\t\\t\\t\\t\\t\\ticonPath: \\'html\\\\/20230928\\\\/K10014209121_2309281337_0928140946_02_01.jpg\\',\\r\\n\\t\\t\\t\\t\\t\\t\\tvideo: \\'\\',\\r\\n\\t\\t\\t\\t\\t\\t\\tduration: 0\\r\\n\\t\\t\\t\\t\\t\\t},\\r\\n\\t\\t\\t\\t\\t\\t{\\r\\n\\t\\t\\t\\t\\t\\t\\tlink: \\'html\\\\/20230928\\\\/k10014209151000.html\\',\\r\\n\\t\\t\\t\\t\\t\\t\\ttitle: \\'\\\\u30E9\\\\u30B0\\\\u30D3\\\\u30FCW\\\\u676F 29\\\\u65E5\\\\u5348\\\\u524D4\\\\u6642\\\\uFF5E\\\\u30B5\\\\u30E2\\\\u30A2\\\\u6226 \\\\u65E5\\\\u672C\\\\u306E\\\\u52DD\\\\u5229\\\\u671F\\\\u5F85\\\\u3059\\\\u308B\\\\u58F0\\',\\r\\n\\t\\t\\t\\t\\t\\t\\tdate: \\'9\\\\u670828\\\\u65E5  18\\\\u664230\\\\u5206\\',\\r\\n\\t\\t\\t\\t\\t\\t\\tdatetime: \\'2023-09-28T18:30\\',\\r\\n\\t\\t\\t\\t\\t\\t\\timgPath: \\'html\\\\/20230928\\\\/K10014209151_2309281540_0928154409_01_02.jpg\\',\\r\\n\\t\\t\\t\\t\\t\\t\\ticonPath: \\'html\\\\/20230928\\\\/K10014209151_2309281540_0928154409_02_01.jpg\\',\\r\\n\\t\\t\\t\\t\\t\\t\\tvideo: \\'\\',\\r\\n\\t\\t\\t\\t\\t\\t\\tduration: 0\\r\\n\\t\\t\\t\\t\\t\\t},\\r\\n\\t\\t\\t\\t\\t\\t{\\r\\n\\t\\t\\t\\t\\t\\t\\tlink: \\'html\\\\/20230928\\\\/k10014209091000.html\\',\\r\\n\\t\\t\\t\\t\\t\\t\\ttitle: \\'\\\\u30E9\\\\u30B0\\\\u30D3\\\\u30FC\\\\uFF37\\\\u676F \\\\u30B5\\\\u30E2\\\\u30A2\\\\u6226\\\\u306E\\\\u30DD\\\\u30A4\\\\u30F3\\\\u30C8\\\\u306F\\\\uFF1F\\\\u7530\\\\u4E2D\\\\u53F2\\\\u6717\\\\u9078\\\\u624B\\\\u304C\\\\u89E3\\\\u8AAC\\\\uFF01\\',\\r\\n\\t\\t\\t\\t\\t\\t\\tdate: \\'9\\\\u670828\\\\u65E5  17\\\\u664238\\\\u5206\\',\\r\\n\\t\\t\\t\\t\\t\\t\\tdatetime: \\'2023-09-28T17:38\\',\\r\\n\\t\\t\\t\\t\\t\\t\\timgPath: \\'html\\\\/20230928\\\\/K10014209091_2309281623_0928164644_01_02.jpg\\',\\r\\n\\t\\t\\t\\t\\t\\t\\ticonPath: \\'html\\\\/20230928\\\\/K10014209091_2309281623_0928164644_02_01.jpg\\',\\r\\n\\t\\t\\t\\t\\t\\t\\tvideo: \\'\\',\\r\\n\\t\\t\\t\\t\\t\\t\\tduration: 0\\r\\n\\t\\t\\t\\t\\t\\t},\\r\\n\\t\\t\\t\\t\\t\\t{\\r\\n\\t\\t\\t\\t\\t\\t\\tlink: \\'html\\\\/20230928\\\\/k10014209301000.html\\',\\r\\n\\t\\t\\t\\t\\t\\t\\ttitle: \\'\\\\u30B5\\\\u30C3\\\\u30AB\\\\u30FC\\\\u7537\\\\u5B50 U-22\\\\u65E5\\\\u672C\\\\u4EE3\\\\u8868 10\\\\u6708 \\\\u30A2\\\\u30E1\\\\u30EA\\\\u30AB\\\\u306B\\\\u9060\\\\u5F81\\\\u3057\\\\u5F37\\\\u5316\\\\u8A66\\\\u5408\\\\u3078\\',\\r\\n\\t\\t\\t\\t\\t\\t\\tdate: \\'9\\\\u670828\\\\u65E5  15\\\\u664253\\\\u5206\\',\\r\\n\\t\\t\\t\\t\\t\\t\\tdatetime: \\'2023-09-28T15:53\\',\\r\\n\\t\\t\\t\\t\\t\\t\\timgPath: \\'html\\\\/20230928\\\\/K10014209301_2309281551_0928155351_01_02.jpg\\',\\r\\n\\t\\t\\t\\t\\t\\t\\ticonPath: \\'html\\\\/20230928\\\\/K10014209301_2309281551_0928155351_02_01.jpg\\',\\r\\n\\t\\t\\t\\t\\t\\t\\tvideo: \\'\\',\\r\\n\\t\\t\\t\\t\\t\\t\\tduration: 0\\r\\n\\t\\t\\t\\t\\t\\t},\\r\\n\\t\\t\\t\\t\\t\\t{\\r\\n\\t\\t\\t\\t\\t\\t\\tlink: \\'html\\\\/20230928\\\\/k10014209891000.html\\',\\r\\n\\t\\t\\t\\t\\t\\t\\ttitle: \\'\\\\u5927\\\\u76F8\\\\u64B2 \\\\u65B0\\\\u5F1F\\\\u5B50\\\\u691C\\\\u67FB \\\\u4F53\\\\u683C\\\\u57FA\\\\u6E96\\\\u672A\\\\u6E80\\\\u3067\\\\u3082\\\\u904B\\\\u52D5\\\\u80FD\\\\u529B\\\\u8A8D\\\\u3081\\\\u3089\\\\u308C\\\\u308C\\\\u3070\\\\u5408\\\\u683C\\',\\r\\n\\t\\t\\t\\t\\t\\t\\tdate: \\'9\\\\u670828\\\\u65E5  21\\\\u664256\\\\u5206\\',\\r\\n\\t\\t\\t\\t\\t\\t\\tdatetime: \\'2023-09-28T21:56\\',\\r\\n\\t\\t\\t\\t\\t\\t\\timgPath: \\'html\\\\/20230928\\\\/K10014209891_2309282126_0928215649_01_02.jpg\\',\\r\\n\\t\\t\\t\\t\\t\\t\\ticonPath: \\'html\\\\/20230928\\\\/K10014209891_2309282126_0928215649_02_01.jpg\\',\\r\\n\\t\\t\\t\\t\\t\\t\\tvideo: \\'\\',\\r\\n\\t\\t\\t\\t\\t\\t\\tduration: 0\\r\\n\\t\\t\\t\\t\\t\\t},\\r\\n\\t\\t\\t\\t\\t\\t{\\r\\n\\t\\t\\t\\t\\t\\t\\tlink: \\'html\\\\/20230928\\\\/k10014209911000.html\\',\\r\\n\\t\\t\\t\\t\\t\\t\\ttitle: \\'\\\\u5927\\\\u76F8\\\\u64B2 \\\\u5F0F\\\\u5B88\\\\u4F0A\\\\u4E4B\\\\u52A9\\\\u304C\\\\u6728\\\\u6751\\\\u5E84\\\\u4E4B\\\\u52A9\\\\u8972\\\\u540D\\\\u3078 \\\\u7D049\\\\u5E74\\\\u3076\\\\u308A\\\\u306B\\\\u884C\\\\u53F8\\\\u6700\\\\u9AD8\\\\u4F4D\\',\\r\\n\\t\\t\\t\\t\\t\\t\\tdate: \\'9\\\\u670828\\\\u65E5  21\\\\u664246\\\\u5206\\',\\r\\n\\t\\t\\t\\t\\t\\t\\tdatetime: \\'2023-09-28T21:46\\',\\r\\n\\t\\t\\t\\t\\t\\t\\timgPath: \\'html\\\\/20230928\\\\/K10014209911_2309282136_0928214645_01_02.jpg\\',\\r\\n\\t\\t\\t\\t\\t\\t\\ticonPath: \\'html\\\\/20230928\\\\/K10014209911_2309282136_0928214645_02_01.jpg\\',\\r\\n\\t\\t\\t\\t\\t\\t\\tvideo: \\'\\',\\r\\n\\t\\t\\t\\t\\t\\t\\tduration: 0\\r\\n\\t\\t\\t\\t\\t\\t},\\r\\n\\t\\t\\t\\t\\t\\t{\\r\\n\\t\\t\\t\\t\\t\\t\\tlink: \\'html\\\\/20230928\\\\/k10014209571000.html\\',\\r\\n\\t\\t\\t\\t\\t\\t\\ttitle: \\'\\\\u30B4\\\\u30EB\\\\u30D5 \\\\u65E5\\\\u672C\\\\u5973\\\\u5B50\\\\u30AA\\\\u30FC\\\\u30D7\\\\u30F3\\\\u7B2C1\\\\u30E9\\\\u30A6\\\\u30F3\\\\u30C9 \\\\u5CA9\\\\u4E95\\\\u660E\\\\u611B\\\\u306A\\\\u30694\\\\u4EBA\\\\u304C\\\\u9996\\\\u4F4D\\\\u306B\\',\\r\\n\\t\\t\\t\\t\\t\\t\\tdate: \\'9\\\\u670828\\\\u65E5  19\\\\u664226\\\\u5206\\',\\r\\n\\t\\t\\t\\t\\t\\t\\tdatetime: \\'2023-09-28T19:26\\',\\r\\n\\t\\t\\t\\t\\t\\t\\timgPath: \\'html\\\\/20230928\\\\/K10014209571_2309281832_0928184119_01_02.jpg\\',\\r\\n\\t\\t\\t\\t\\t\\t\\ticonPath: \\'html\\\\/20230928\\\\/K10014209571_2309281832_0928184119_02_01.jpg\\',\\r\\n\\t\\t\\t\\t\\t\\t\\tvideo: \\'\\',\\r\\n\\t\\t\\t\\t\\t\\t\\tduration: 0\\r\\n\\t\\t\\t\\t\\t\\t}\\r\\n\\t\\t\\t\\t\\t],\\r\\n\\t\\t\\t\\t\\trelationLink: [\\r\\n\\t\\t\\t\\t\\t],\\r\\n\\t\\t\\t\\t\\tmoreNews: [\\r\\n\\t\\t\\t\\t\\t\\t{\\r\\n\\t\\t\\t\\t\\t\\t\\ttype: 1,\\r\\n\\t\\t\\t\\t\\t\\t\\tid: \\'10014208911000\\',\\r\\n\\t\\t\\t\\t\\t\\t\\tlink: \\'html\\\\/20230928\\\\/k10014208911000.html\\',\\r\\n\\t\\t\\t\\t\\t\\t\\ttitle:\\'\\\\u5DE8\\\\u4EBA \\\\u677E\\\\u7530\\\\u5BA3\\\\u6D69 \\\\u4ECA\\\\u30B7\\\\u30FC\\\\u30BA\\\\u30F3\\\\u3067\\\\u73FE\\\\u5F79\\\\u5F15\\\\u9000\\\\u3078\\',\\r\\n\\t\\t\\t\\t\\t\\t\\tdescription: \\'\\',\\r\\n\\t\\t\\t\\t\\t\\t\\tdate: \\'9\\\\u670828\\\\u65E5 20\\\\u664210\\\\u5206\\',\\r\\n\\t\\t\\t\\t\\t\\t\\tdatetime: \\'2023-09-28T20:10\\',\\r\\n\\t\\t\\t\\t\\t\\t\\timgPath: \\'html\\\\/20230928\\\\/K10014208911_2309282041_0928204320_01_02.jpg\\',\\r\\n\\t\\t\\t\\t\\t\\t\\ticonPath: \\'html\\\\/20230928\\\\/K10014208911_2309282041_0928204320_02_01.jpg\\',\\r\\n\\t\\t\\t\\t\\t\\t\\tvideo: \\'\\',\\r\\n\\t\\t\\t\\t\\t\\t\\tduration: 0,\\r\\n\\t\\t\\t\\t\\t\\t\\tcontentsName: \\'\\\\u5DE8\\\\u4EBA \\\\u677E\\\\u7530\\\\u5BA3\\\\u6D69 \\\\u4ECA\\\\u30B7\\\\u30FC\\\\u30BA\\\\u30F3\\\\u3067\\\\u73FE\\\\u5F79\\\\u5F15\\\\u9000\\\\u3078\\'\\r\\n\\t\\t\\t\\t\\t\\t},\\r\\n\\t\\t\\t\\t\\t\\t{\\r\\n\\t\\t\\t\\t\\t\\t\\ttype: 1,\\r\\n\\t\\t\\t\\t\\t\\t\\tid: \\'10014209021000\\',\\r\\n\\t\\t\\t\\t\\t\\t\\tlink: \\'html\\\\/20230928\\\\/k10014209021000.html\\',\\r\\n\\t\\t\\t\\t\\t\\t\\ttitle:\\'\\\\u30E1\\\\u30C3\\\\u30C4 \\\\u5343\\\\u8CC0\\\\u6EC9\\\\u5927 \\\\u30B7\\\\u30FC\\\\u30BA\\\\u30F3200\\\\u596A\\\\u4E09\\\\u632F\\\\u306B\\\\u5230\\\\u9054\\',\\r\\n\\t\\t\\t\\t\\t\\t\\tdescription: \\'\\',\\r\\n\\t\\t\\t\\t\\t\\t\\tdate: \\'9\\\\u670828\\\\u65E5 17\\\\u664210\\\\u5206\\',\\r\\n\\t\\t\\t\\t\\t\\t\\tdatetime: \\'2023-09-28T17:10\\',\\r\\n\\t\\t\\t\\t\\t\\t\\timgPath: \\'html\\\\/20230928\\\\/K10014209021_2309281201_0928124823_01_02.jpg\\',\\r\\n\\t\\t\\t\\t\\t\\t\\ticonPath: \\'html\\\\/20230928\\\\/K10014209021_2309281201_0928124823_02_01.jpg\\',\\r\\n\\t\\t\\t\\t\\t\\t\\tvideo: \\'\\',\\r\\n\\t\\t\\t\\t\\t\\t\\tduration: 0,\\r\\n\\t\\t\\t\\t\\t\\t\\tcontentsName: \\'\\\\u30E1\\\\u30C3\\\\u30C4 \\\\u5343\\\\u8CC0\\\\u6EC9\\\\u5927 \\\\u30B7\\\\u30FC\\\\u30BA\\\\u30F3200\\\\u596A\\\\u4E09\\\\u632F\\\\u306B\\\\u5230\\\\u9054\\'\\r\\n\\t\\t\\t\\t\\t\\t},\\r\\n\\t\\t\\t\\t\\t\\t{\\r\\n\\t\\t\\t\\t\\t\\t\\ttype: 1,\\r\\n\\t\\t\\t\\t\\t\\t\\tid: \\'10014209321000\\',\\r\\n\\t\\t\\t\\t\\t\\t\\tlink: \\'html\\\\/20230928\\\\/k10014209321000.html\\',\\r\\n\\t\\t\\t\\t\\t\\t\\ttitle:\\'\\\\u5927\\\\u30EA\\\\u30FC\\\\u30B0 \\\\u30EC\\\\u30F3\\\\u30B8\\\\u30E3\\\\u30FC\\\\u30BA \\\\u30AC\\\\u30EB\\\\u30B7\\\\u30A2\\\\u304C38\\\\u53F7HR \\\\u5927\\\\u8C37\\\\u7FD4\\\\u5E73\\\\u30686\\\\u672C\\\\u5DEE\\\\u306B\\',\\r\\n\\t\\t\\t\\t\\t\\t\\tdescription: \\'\\',\\r\\n\\t\\t\\t\\t\\t\\t\\tdate: \\'9\\\\u670828\\\\u65E5 16\\\\u664218\\\\u5206\\',\\r\\n\\t\\t\\t\\t\\t\\t\\tdatetime: \\'2023-09-28T16:18\\',\\r\\n\\t\\t\\t\\t\\t\\t\\timgPath: \\'html\\\\/20230928\\\\/K10014209321_2309281607_0928161816_01_02.jpg\\',\\r\\n\\t\\t\\t\\t\\t\\t\\ticonPath: \\'html\\\\/20230928\\\\/K10014209321_2309281607_0928161816_02_01.jpg\\',\\r\\n\\t\\t\\t\\t\\t\\t\\tvideo: \\'\\',\\r\\n\\t\\t\\t\\t\\t\\t\\tduration: 0,\\r\\n\\t\\t\\t\\t\\t\\t\\tcontentsName: \\'\\\\u5927\\\\u30EA\\\\u30FC\\\\u30B0 \\\\u30EC\\\\u30F3\\\\u30B8\\\\u30E3\\\\u30FC\\\\u30BA \\\\u30AC\\\\u30EB\\\\u30B7\\\\u30A2\\\\u304C38\\\\u53F7HR \\\\u5927\\\\u8C37\\\\u7FD4\\\\u5E73\\\\u30686\\\\u672C\\\\u5DEE\\\\u306B\\'\\r\\n\\t\\t\\t\\t\\t\\t},\\r\\n\\t\\t\\t\\t\\t\\t{\\r\\n\\t\\t\\t\\t\\t\\t\\ttype: 1,\\r\\n\\t\\t\\t\\t\\t\\t\\tid: \\'10014209121000\\',\\r\\n\\t\\t\\t\\t\\t\\t\\tlink: \\'html\\\\/20230928\\\\/k10014209121000.html\\',\\r\\n\\t\\t\\t\\t\\t\\t\\ttitle:\\'\\\\u5927\\\\u30EA\\\\u30FC\\\\u30B0\\\\u521D \\\\u30A2\\\\u30AF\\\\u30FC\\\\u30CB\\\\u30E3Jr. \\\\u4ECA\\\\u5B63\\\\u30DB\\\\u30FC\\\\u30E0\\\\u30E9\\\\u30F340\\\\u672C\\\\u306870\\\\u76D7\\\\u5841\\\\u3092\\\\u9054\\\\u6210\\',\\r\\n\\t\\t\\t\\t\\t\\t\\tdescription: \\'\\',\\r\\n\\t\\t\\t\\t\\t\\t\\tdate: \\'9\\\\u670828\\\\u65E5 15\\\\u664258\\\\u5206\\',\\r\\n\\t\\t\\t\\t\\t\\t\\tdatetime: \\'2023-09-28T15:58\\',\\r\\n\\t\\t\\t\\t\\t\\t\\timgPath: \\'html\\\\/20230928\\\\/K10014209121_2309281337_0928140946_01_02.jpg\\',\\r\\n\\t\\t\\t\\t\\t\\t\\ticonPath: \\'html\\\\/20230928\\\\/K10014209121_2309281337_0928140946_02_01.jpg\\',\\r\\n\\t\\t\\t\\t\\t\\t\\tvideo: \\'\\',\\r\\n\\t\\t\\t\\t\\t\\t\\tduration: 0,\\r\\n\\t\\t\\t\\t\\t\\t\\tcontentsName: \\'\\\\u5927\\\\u30EA\\\\u30FC\\\\u30B0\\\\u521D \\\\u30A2\\\\u30AF\\\\u30FC\\\\u30CB\\\\u30E3Jr. \\\\u4ECA\\\\u5B63\\\\u30DB\\\\u30FC\\\\u30E0\\\\u30E9\\\\u30F340\\\\u672C\\\\u306870\\\\u76D7\\\\u5841\\\\u3092\\\\u9054\\\\u6210\\'\\r\\n\\t\\t\\t\\t\\t\\t},\\r\\n\\t\\t\\t\\t\\t\\t{\\r\\n\\t\\t\\t\\t\\t\\t\\ttype: 1,\\r\\n\\t\\t\\t\\t\\t\\t\\tid: \\'10014209151000\\',\\r\\n\\t\\t\\t\\t\\t\\t\\tlink: \\'html\\\\/20230928\\\\/k10014209151000.html\\',\\r\\n\\t\\t\\t\\t\\t\\t\\ttitle:\\'\\\\u30E9\\\\u30B0\\\\u30D3\\\\u30FCW\\\\u676F 29\\\\u65E5\\\\u5348\\\\u524D4\\\\u6642\\\\uFF5E\\\\u30B5\\\\u30E2\\\\u30A2\\\\u6226 \\\\u65E5\\\\u672C\\\\u306E\\\\u52DD\\\\u5229\\\\u671F\\\\u5F85\\\\u3059\\\\u308B\\\\u58F0\\',\\r\\n\\t\\t\\t\\t\\t\\t\\tdescription: \\'\\',\\r\\n\\t\\t\\t\\t\\t\\t\\tdate: \\'9\\\\u670828\\\\u65E5 18\\\\u664230\\\\u5206\\',\\r\\n\\t\\t\\t\\t\\t\\t\\tdatetime: \\'2023-09-28T18:30\\',\\r\\n\\t\\t\\t\\t\\t\\t\\timgPath: \\'html\\\\/20230928\\\\/K10014209151_2309281540_0928154409_01_02.jpg\\',\\r\\n\\t\\t\\t\\t\\t\\t\\ticonPath: \\'html\\\\/20230928\\\\/K10014209151_2309281540_0928154409_02_01.jpg\\',\\r\\n\\t\\t\\t\\t\\t\\t\\tvideo: \\'\\',\\r\\n\\t\\t\\t\\t\\t\\t\\tduration: 0,\\r\\n\\t\\t\\t\\t\\t\\t\\tcontentsName: \\'\\\\u30E9\\\\u30B0\\\\u30D3\\\\u30FCW\\\\u676F 29\\\\u65E5\\\\u5348\\\\u524D4\\\\u6642\\\\uFF5E\\\\u30B5\\\\u30E2\\\\u30A2\\\\u6226 \\\\u65E5\\\\u672C\\\\u306E\\\\u52DD\\\\u5229\\\\u671F\\\\u5F85\\\\u3059\\\\u308B\\\\u58F0\\'\\r\\n\\t\\t\\t\\t\\t\\t},\\r\\n\\t\\t\\t\\t\\t\\t{\\r\\n\\t\\t\\t\\t\\t\\t\\ttype: 1,\\r\\n\\t\\t\\t\\t\\t\\t\\tid: \\'10014209091000\\',\\r\\n\\t\\t\\t\\t\\t\\t\\tlink: \\'html\\\\/20230928\\\\/k10014209091000.html\\',\\r\\n\\t\\t\\t\\t\\t\\t\\ttitle:\\'\\\\u30E9\\\\u30B0\\\\u30D3\\\\u30FC\\\\uFF37\\\\u676F \\\\u30B5\\\\u30E2\\\\u30A2\\\\u6226\\\\u306E\\\\u30DD\\\\u30A4\\\\u30F3\\\\u30C8\\\\u306F\\\\uFF1F\\\\u7530\\\\u4E2D\\\\u53F2\\\\u6717\\\\u9078\\\\u624B\\\\u304C\\\\u89E3\\\\u8AAC\\\\uFF01\\',\\r\\n\\t\\t\\t\\t\\t\\t\\tdescription: \\'\\',\\r\\n\\t\\t\\t\\t\\t\\t\\tdate: \\'9\\\\u670828\\\\u65E5 17\\\\u664238\\\\u5206\\',\\r\\n\\t\\t\\t\\t\\t\\t\\tdatetime: \\'2023-09-28T17:38\\',\\r\\n\\t\\t\\t\\t\\t\\t\\timgPath: \\'html\\\\/20230928\\\\/K10014209091_2309281623_0928164644_01_02.jpg\\',\\r\\n\\t\\t\\t\\t\\t\\t\\ticonPath: \\'html\\\\/20230928\\\\/K10014209091_2309281623_0928164644_02_01.jpg\\',\\r\\n\\t\\t\\t\\t\\t\\t\\tvideo: \\'\\',\\r\\n\\t\\t\\t\\t\\t\\t\\tduration: 0,\\r\\n\\t\\t\\t\\t\\t\\t\\tcontentsName: \\'\\\\u30E9\\\\u30B0\\\\u30D3\\\\u30FC\\\\uFF37\\\\u676F \\\\u30B5\\\\u30E2\\\\u30A2\\\\u6226\\\\u306E\\\\u30DD\\\\u30A4\\\\u30F3\\\\u30C8\\\\u306F\\\\uFF1F\\\\u7530\\\\u4E2D\\\\u53F2\\\\u6717\\\\u9078\\\\u624B\\\\u304C\\\\u89E3\\\\u8AAC\\\\uFF01\\'\\r\\n\\t\\t\\t\\t\\t\\t},\\r\\n\\t\\t\\t\\t\\t\\t{\\r\\n\\t\\t\\t\\t\\t\\t\\ttype: 1,\\r\\n\\t\\t\\t\\t\\t\\t\\tid: \\'10014209301000\\',\\r\\n\\t\\t\\t\\t\\t\\t\\tlink: \\'html\\\\/20230928\\\\/k10014209301000.html\\',\\r\\n\\t\\t\\t\\t\\t\\t\\ttitle:\\'\\\\u30B5\\\\u30C3\\\\u30AB\\\\u30FC\\\\u7537\\\\u5B50 U-22\\\\u65E5\\\\u672C\\\\u4EE3\\\\u8868 10\\\\u6708 \\\\u30A2\\\\u30E1\\\\u30EA\\\\u30AB\\\\u306B\\\\u9060\\\\u5F81\\\\u3057\\\\u5F37\\\\u5316\\\\u8A66\\\\u5408\\\\u3078\\',\\r\\n\\t\\t\\t\\t\\t\\t\\tdescription: \\'\\',\\r\\n\\t\\t\\t\\t\\t\\t\\tdate: \\'9\\\\u670828\\\\u65E5 15\\\\u664253\\\\u5206\\',\\r\\n\\t\\t\\t\\t\\t\\t\\tdatetime: \\'2023-09-28T15:53\\',\\r\\n\\t\\t\\t\\t\\t\\t\\timgPath: \\'html\\\\/20230928\\\\/K10014209301_2309281551_0928155351_01_02.jpg\\',\\r\\n\\t\\t\\t\\t\\t\\t\\ticonPath: \\'html\\\\/20230928\\\\/K10014209301_2309281551_0928155351_02_01.jpg\\',\\r\\n\\t\\t\\t\\t\\t\\t\\tvideo: \\'\\',\\r\\n\\t\\t\\t\\t\\t\\t\\tduration: 0,\\r\\n\\t\\t\\t\\t\\t\\t\\tcontentsName: \\'\\\\u30B5\\\\u30C3\\\\u30AB\\\\u30FC\\\\u7537\\\\u5B50 U-22\\\\u65E5\\\\u672C\\\\u4EE3\\\\u8868 10\\\\u6708 \\\\u30A2\\\\u30E1\\\\u30EA\\\\u30AB\\\\u306B\\\\u9060\\\\u5F81\\\\u3057\\\\u5F37\\\\u5316\\\\u8A66\\\\u5408\\\\u3078\\'\\r\\n\\t\\t\\t\\t\\t\\t},\\r\\n\\t\\t\\t\\t\\t\\t{\\r\\n\\t\\t\\t\\t\\t\\t\\ttype: 1,\\r\\n\\t\\t\\t\\t\\t\\t\\tid: \\'10014209891000\\',\\r\\n\\t\\t\\t\\t\\t\\t\\tlink: \\'html\\\\/20230928\\\\/k10014209891000.html\\',\\r\\n\\t\\t\\t\\t\\t\\t\\ttitle:\\'\\\\u5927\\\\u76F8\\\\u64B2 \\\\u65B0\\\\u5F1F\\\\u5B50\\\\u691C\\\\u67FB \\\\u4F53\\\\u683C\\\\u57FA\\\\u6E96\\\\u672A\\\\u6E80\\\\u3067\\\\u3082\\\\u904B\\\\u52D5\\\\u80FD\\\\u529B\\\\u8A8D\\\\u3081\\\\u3089\\\\u308C\\\\u308C\\\\u3070\\\\u5408\\\\u683C\\',\\r\\n\\t\\t\\t\\t\\t\\t\\tdescription: \\'\\',\\r\\n\\t\\t\\t\\t\\t\\t\\tdate: \\'9\\\\u670828\\\\u65E5 21\\\\u664256\\\\u5206\\',\\r\\n\\t\\t\\t\\t\\t\\t\\tdatetime: \\'2023-09-28T21:56\\',\\r\\n\\t\\t\\t\\t\\t\\t\\timgPath: \\'html\\\\/20230928\\\\/K10014209891_2309282126_0928215649_01_02.jpg\\',\\r\\n\\t\\t\\t\\t\\t\\t\\ticonPath: \\'html\\\\/20230928\\\\/K10014209891_2309282126_0928215649_02_01.jpg\\',\\r\\n\\t\\t\\t\\t\\t\\t\\tvideo: \\'\\',\\r\\n\\t\\t\\t\\t\\t\\t\\tduration: 0,\\r\\n\\t\\t\\t\\t\\t\\t\\tcontentsName: \\'\\\\u5927\\\\u76F8\\\\u64B2 \\\\u65B0\\\\u5F1F\\\\u5B50\\\\u691C\\\\u67FB \\\\u4F53\\\\u683C\\\\u57FA\\\\u6E96\\\\u672A\\\\u6E80\\\\u3067\\\\u3082\\\\u904B\\\\u52D5\\\\u80FD\\\\u529B\\\\u8A8D\\\\u3081\\\\u3089\\\\u308C\\\\u308C\\\\u3070\\\\u5408\\\\u683C\\'\\r\\n\\t\\t\\t\\t\\t\\t},\\r\\n\\t\\t\\t\\t\\t\\t{\\r\\n\\t\\t\\t\\t\\t\\t\\ttype: 1,\\r\\n\\t\\t\\t\\t\\t\\t\\tid: \\'10014209911000\\',\\r\\n\\t\\t\\t\\t\\t\\t\\tlink: \\'html\\\\/20230928\\\\/k10014209911000.html\\',\\r\\n\\t\\t\\t\\t\\t\\t\\ttitle:\\'\\\\u5927\\\\u76F8\\\\u64B2 \\\\u5F0F\\\\u5B88\\\\u4F0A\\\\u4E4B\\\\u52A9\\\\u304C\\\\u6728\\\\u6751\\\\u5E84\\\\u4E4B\\\\u52A9\\\\u8972\\\\u540D\\\\u3078 \\\\u7D049\\\\u5E74\\\\u3076\\\\u308A\\\\u306B\\\\u884C\\\\u53F8\\\\u6700\\\\u9AD8\\\\u4F4D\\',\\r\\n\\t\\t\\t\\t\\t\\t\\tdescription: \\'\\',\\r\\n\\t\\t\\t\\t\\t\\t\\tdate: \\'9\\\\u670828\\\\u65E5 21\\\\u664246\\\\u5206\\',\\r\\n\\t\\t\\t\\t\\t\\t\\tdatetime: \\'2023-09-28T21:46\\',\\r\\n\\t\\t\\t\\t\\t\\t\\timgPath: \\'html\\\\/20230928\\\\/K10014209911_2309282136_0928214645_01_02.jpg\\',\\r\\n\\t\\t\\t\\t\\t\\t\\ticonPath: \\'html\\\\/20230928\\\\/K10014209911_2309282136_0928214645_02_01.jpg\\',\\r\\n\\t\\t\\t\\t\\t\\t\\tvideo: \\'\\',\\r\\n\\t\\t\\t\\t\\t\\t\\tduration: 0,\\r\\n\\t\\t\\t\\t\\t\\t\\tcontentsName: \\'\\\\u5927\\\\u76F8\\\\u64B2 \\\\u5F0F\\\\u5B88\\\\u4F0A\\\\u4E4B\\\\u52A9\\\\u304C\\\\u6728\\\\u6751\\\\u5E84\\\\u4E4B\\\\u52A9\\\\u8972\\\\u540D\\\\u3078 \\\\u7D049\\\\u5E74\\\\u3076\\\\u308A\\\\u306B\\\\u884C\\\\u53F8\\\\u6700\\\\u9AD8\\\\u4F4D\\'\\r\\n\\t\\t\\t\\t\\t\\t},\\r\\n\\t\\t\\t\\t\\t\\t{\\r\\n\\t\\t\\t\\t\\t\\t\\ttype: 1,\\r\\n\\t\\t\\t\\t\\t\\t\\tid: \\'10014209571000\\',\\r\\n\\t\\t\\t\\t\\t\\t\\tlink: \\'html\\\\/20230928\\\\/k10014209571000.html\\',\\r\\n\\t\\t\\t\\t\\t\\t\\ttitle:\\'\\\\u30B4\\\\u30EB\\\\u30D5 \\\\u65E5\\\\u672C\\\\u5973\\\\u5B50\\\\u30AA\\\\u30FC\\\\u30D7\\\\u30F3\\\\u7B2C1\\\\u30E9\\\\u30A6\\\\u30F3\\\\u30C9 \\\\u5CA9\\\\u4E95\\\\u660E\\\\u611B\\\\u306A\\\\u30694\\\\u4EBA\\\\u304C\\\\u9996\\\\u4F4D\\\\u306B\\',\\r\\n\\t\\t\\t\\t\\t\\t\\tdescription: \\'\\',\\r\\n\\t\\t\\t\\t\\t\\t\\tdate: \\'9\\\\u670828\\\\u65E5 19\\\\u664226\\\\u5206\\',\\r\\n\\t\\t\\t\\t\\t\\t\\tdatetime: \\'2023-09-28T19:26\\',\\r\\n\\t\\t\\t\\t\\t\\t\\timgPath: \\'html\\\\/20230928\\\\/K10014209571_2309281832_0928184119_01_02.jpg\\',\\r\\n\\t\\t\\t\\t\\t\\t\\ticonPath: \\'html\\\\/20230928\\\\/K10014209571_2309281832_0928184119_02_01.jpg\\',\\r\\n\\t\\t\\t\\t\\t\\t\\tvideo: \\'\\',\\r\\n\\t\\t\\t\\t\\t\\t\\tduration: 0,\\r\\n\\t\\t\\t\\t\\t\\t\\tcontentsName: \\'\\\\u30B4\\\\u30EB\\\\u30D5 \\\\u65E5\\\\u672C\\\\u5973\\\\u5B50\\\\u30AA\\\\u30FC\\\\u30D7\\\\u30F3\\\\u7B2C1\\\\u30E9\\\\u30A6\\\\u30F3\\\\u30C9 \\\\u5CA9\\\\u4E95\\\\u660E\\\\u611B\\\\u306A\\\\u30694\\\\u4EBA\\\\u304C\\\\u9996\\\\u4F4D\\\\u306B\\'\\r\\n\\t\\t\\t\\t\\t\\t}\\r\\n\\t\\t\\t\\t\\t],\\r\\n\\t\\t\\t\\t\\tword: [\\r\\n\\t\\t\\t\\t\\t\\t{\\r\\n\\t\\t\\t\\t\\t\\t\\tlink: \\'word\\\\/0000001.html\\',\\r\\n\\t\\t\\t\\t\\t\\t\\ttitle: \\'\\\\u30D7\\\\u30ED\\\\u91CE\\\\u7403\\',\\r\\n\\t\\t\\t\\t\\t\\t}\\r\\n\\t\\t\\t\\t\\t]\\r\\n\\t\\t\\t\\t};\\n       </script>\\n      </article>\\n      <article class=\"module module--detail--v3\">\\n       <section class=\"module--detail-content\">\\n        <header class=\"content--detail-header\">\\n         <figure class=\"content--thumb\">\\n          <img alt=\"\" class=\"lazy\" data-src=\"/news/html/20230928/K10014210021_2309282336_0928233918_01_02.jpg\" src=\"/news/parts16/images/common/noimg_default.gif\"/>\\n         </figure>\\n         <div class=\"content--detail-title\">\\n          <h1 class=\"content--title\">\\n           <span>\\n            【プロ野球結果】楽天3位浮上 パ2位-4位までゲーム差1の大混戦\\n           </span>\\n          </h1>\\n          <p class=\"content--date\">\\n           <time datetime=\"2023-09-28T23:39:16\">\\n            2023年9月28日 23時39分\\n           </time>\\n           <a class=\"i-word\" href=\"/news/word/0000001.html\">\\n            プロ野球\\n           </a>\\n          </p>\\n         </div>\\n        </header>\\n        <div class=\"module--share none-screen\">\\n         <div class=\"nhk-snsbtn\" data-nhksns-description=\" \" data-nhksns-disable=\"google\">\\n         </div>\\n        </div>\\n        <section class=\"content--detail-main\">\\n         <div class=\"content--detail-body\">\\n          <p class=\"content--summary\" style=\"\">\\n           プロ野球はパ・リーグの2試合が行われ、クライマックスシリーズ進出争いは3位のロッテが敗れ、勝った楽天が1日で入れかわって3位に浮上しました。2位・ソフトバンクは試合がなく、2位から4位までのゲーム差は1の大混戦です。\\n          </p>\\n          <div class=\"content--detail-more\">\\n           <section class=\"content--body\" datetime=\"\" style=\"\">\\n            <h2 class=\"body-title\">\\n             《パ・リーグ》\\n            </h2>\\n            <div class=\"body-text\">\\n             <p>\\n             </p>\\n            </div>\\n           </section>\\n           <section class=\"content--body\" datetime=\"\" style=\"\">\\n            <h2 class=\"body-title\">\\n             日本ハム×ロッテ\\n            </h2>\\n            <div class=\"body-text\">\\n             <p>\\n              日本ハム対ロッテは日本ハムが9対2で勝ちました。\\n              <br/>\\n              ○勝ち:根本投手3勝\\n              <br/>\\n              ●負け:種市投手10勝7敗\\n              <br/>\\n              ◎ホームラン:日本ハム・野村選手13号\\n              <br/>\\n              <br/>\\n              日本ハムは2回、田宮選手のタイムリーヒットで2対1と勝ち越し、3回にも1点を加えました。さらに4回にはツーアウトランナーなしから、万波選手や清宮選手ら5者連続のタイムリーを含む7本連続のヒットで一挙に5点を奪い、突き放しました。先発の根本投手は6回をヒット4本1失点で3勝目をあげました。\\n              <br/>\\n              <br/>\\n              ロッテは先発の種市投手が4回途中、ヒット11本で8失点と崩れ、再び4位に後退しました。\\n             </p>\\n            </div>\\n           </section>\\n           <section class=\"content--body\" datetime=\"\" style=\"\">\\n            <h2 class=\"body-title\">\\n             楽天×オリックス\\n            </h2>\\n            <div class=\"body-text\">\\n             <p>\\n              楽天対オリックスは楽天が9対5で勝ちました。\\n              <br/>\\n              ○勝ち:安樂投手3勝2敗\\n              <br/>\\n              ●負け:阿部投手3勝5敗1セーブ\\n              <br/>\\n              ◎ホームラン:\\n              <br/>\\n              楽天・鈴木大地選手5号\\n              <br/>\\n              オリックス・野口選手2号\\n              <br/>\\n              <br/>\\n              楽天は4対5と1点を追う8回、ノーアウト満塁のチャンスから岡島選手のタイムリーヒットで追いつき、さらに村林選手や小郷選手のタイムリーなど打者11人の攻撃で、この回一挙に5点を奪い逆転しました。6人目で1イニングを無失点に抑えた安樂投手が3勝目をあげ、楽天は3位に浮上しました。\\n              <br/>\\n              <br/>\\n              オリックスは7回に勝ち越しましたが、3人目の阿部投手が打ち込まれました。\\n             </p>\\n            </div>\\n           </section>\\n          </div>\\n         </div>\\n        </section>\\n       </section>\\n      </article>\\n      <article class=\"module module--detail-morenews\">\\n      </article>\\n      <article class=\"module\">\\n       <footer class=\"module--footer back-link\">\\n        <p class=\"button\">\\n         <a href=\"/news/cat07.html\">\\n          <i class=\"i-arrow is-right_g\">\\n          </i>\\n          <span>\\n           スポーツ\\n          </span>\\n          ニュース一覧へ戻る\\n         </a>\\n        </p>\\n       </footer>\\n      </article>\\n      <aside class=\"module--share\" id=\"trigger-share-fixed\">\\n       <div class=\"nhk-snsbtn\" data-nhksns-description=\" \" data-nhksns-disable=\"google\">\\n       </div>\\n      </aside>\\n      <article class=\"module module--news-feature detail-feature\">\\n      </article>\\n      <article class=\"module module--special\">\\n      </article>\\n     </main>\\n     <!--/ #main -->\\n     <aside id=\"side\" role=\"complementary\">\\n      <div class=\"side-inner\" id=\"side-inner\">\\n       <article class=\"module_aside module_aside--earthquake\">\\n       </article>\\n       <article class=\"module_aside module_aside--search-widget none-mobile\">\\n       </article>\\n       <article class=\"module_aside module_aside--announce announce-weather--2212 none-mobile\">\\n       </article>\\n       <article class=\"module_aside module_aside--featured-movie\">\\n       </article>\\n       <article class=\"module_aside module_aside--ranking ranking-social--2107\">\\n       </article>\\n       <article class=\"module_aside module_aside--ranking ranking-access--2107\">\\n       </article>\\n       <article class=\"module_aside module_aside--news-latest-and-local\">\\n       </article>\\n       <article class=\"module_aside module_aside--news-closeup\">\\n       </article>\\n       <article class=\"module_aside module_aside--featured-program\">\\n       </article>\\n       <article class=\"module_aside module_aside--announce announce-sdc\">\\n       </article>\\n       <article class=\"module_aside module_aside--movie-related\">\\n       </article>\\n       <article class=\"module_aside module_aside--movie-ranking\">\\n       </article>\\n       <article class=\"module_aside module_aside--banner\">\\n       </article>\\n      </div>\\n      <!--/ #side-inner -->\\n     </aside>\\n     <!--/ #side -->\\n     <nav class=\"breadcrumb\" id=\"breadcrumb\">\\n     </nav>\\n     <nav class=\"pagetop\" id=\"pagetop\" onclick=\"_tc_onClick(s_omni, {\\'eVar58\\':\\'all_footer\\',\\'eVar59\\':\\'btn_pagetop\\'}, \\'click\\');\" role=\"navigation\">\\n      <a href=\"#wrapper\" title=\"ページの先頭へ戻る\">\\n       <i class=\"i-arrow is-up_w\">\\n        ページの先頭へ戻る\\n       </i>\\n      </a>\\n     </nav>\\n    </div>\\n    <!--/ #content-inner -->\\n    <footer id=\"footer\" role=\"contentinfo\">\\n    </footer>\\n    <!--/ #footer -->\\n    <aside id=\"nhkfooter\">\\n     <script>\\n      nol_showCmnFooter({mode:\\'full\\'});\\n     </script>\\n    </aside>\\n   </div>\\n   <!--/ #content -->\\n   <aside class=\"share-fixed\" role=\"complementary\">\\n    <div class=\"inner\">\\n     <p class=\"nhk-sns--title\">\\n      シェア\\n     </p>\\n     <div class=\"nhk-snsbtn\" data-nhksns-description=\" \" data-nhksns-disable=\"google\">\\n     </div>\\n    </div>\\n   </aside>\\n  </div>\\n  <!--/ #wrapper -->\\n  <script src=\"/news/parts16/js/vendor-v3.js?stamp=ph5100\">\\n  </script>\\n  <script src=\"/news/parts16/js/app.bundle-v3.js?stamp=ph5100\">\\n  </script>\\n  <script charset=\"UTF-8\" src=\"/news/parts16/js/chartbeat_config.js\">\\n  </script>\\n  <div id=\"bcpath\" style=\"display:none\">\\n   20230928/10014210021000\\n  </div>\\n  <script src=\"/news/parts16/js/bc.js\">\\n  </script>\\n </body>\\n</html>\\n',\n",
       " 'summary': 'プロ野球はパ・リーグの2試合が行われ、クライマックスシリーズ進出争いは3位のロッテが敗れ、勝った楽天が1日で入れかわって3位に浮上しました。2位・ソフトバンクは試合がなく、2位から4位までのゲーム差は1の大混戦です。',\n",
       " 'detail': '《パ・リーグ》日本ハム×ロッテ日本ハム対ロッテは日本ハムが9対2で勝ちました。○勝ち:根本投手3勝●負け:種市投手10勝7敗◎ホームラン:日本ハム・野村選手13号日本ハムは2回、田宮選手のタイムリーヒットで2対1と勝ち越し、3回にも1点を加えました。さらに4回にはツーアウトランナーなしから、万波選手や清宮選手ら5者連続のタイムリーを含む7本連続のヒットで一挙に5点を奪い、突き放しました。先発の根本投手は6回をヒット4本1失点で3勝目をあげました。ロッテは先発の種市投手が4回途中、ヒット11本で8失点と崩れ、再び4位に後退しました。楽天×オリックス楽天対オリックスは楽天が9対5で勝ちました。○勝ち:安樂投手3勝2敗●負け:阿部投手3勝5敗1セーブ◎ホームラン:楽天・鈴木大地選手5号オリックス・野口選手2号楽天は4対5と1点を追う8回、ノーアウト満塁のチャンスから岡島選手のタイムリーヒットで追いつき、さらに村林選手や小郷選手のタイムリーなど打者11人の攻撃で、この回一挙に5点を奪い逆転しました。6人目で1イニングを無失点に抑えた安樂投手が3勝目をあげ、楽天は3位に浮上しました。オリックスは7回に勝ち越しましたが、3人目の阿部投手が打ち込まれました。'}"
      ]
     },
     "execution_count": 48,
     "metadata": {},
     "output_type": "execute_result"
    }
   ],
   "source": [
    "items[250]"
   ]
  },
  {
   "cell_type": "markdown",
   "metadata": {},
   "source": [
    "### Filter failed items\n"
   ]
  },
  {
   "cell_type": "code",
   "execution_count": 49,
   "metadata": {},
   "outputs": [],
   "source": [
    "# filter items which has no html\n",
    "items = [item for item in items if \"html\" in item]"
   ]
  },
  {
   "cell_type": "code",
   "execution_count": 50,
   "metadata": {},
   "outputs": [
    {
     "data": {
      "text/plain": [
       "Dataset({\n",
       "    features: ['id', 'title', 'pubDate', 'cate', 'cate_group', 'link', 'imgPath', 'iconPath', 'videoPath', 'videoDuration', 'relationNews', 'html', 'summary', 'detail'],\n",
       "    num_rows: 16376\n",
       "})"
      ]
     },
     "execution_count": 50,
     "metadata": {},
     "output_type": "execute_result"
    }
   ],
   "source": [
    "ds = Dataset.from_list(items)\n",
    "ds"
   ]
  },
  {
   "cell_type": "markdown",
   "metadata": {},
   "source": [
    "## Upload to huggingface\n"
   ]
  },
  {
   "cell_type": "code",
   "execution_count": 51,
   "metadata": {},
   "outputs": [],
   "source": [
    "SAVE_REOO_ID = \"nhk-title-sum-detail\""
   ]
  },
  {
   "cell_type": "code",
   "execution_count": 52,
   "metadata": {},
   "outputs": [
    {
     "data": {
      "application/vnd.jupyter.widget-view+json": {
       "model_id": "791011890000446a8c2c7968707fc4f1",
       "version_major": 2,
       "version_minor": 0
      },
      "text/plain": [
       "Uploading the dataset shards:   0%|          | 0/2 [00:00<?, ?it/s]"
      ]
     },
     "metadata": {},
     "output_type": "display_data"
    },
    {
     "data": {
      "application/vnd.jupyter.widget-view+json": {
       "model_id": "567554a725374a3ab8be1ecea8fa9ec1",
       "version_major": 2,
       "version_minor": 0
      },
      "text/plain": [
       "Creating parquet from Arrow format:   0%|          | 0/9 [00:00<?, ?ba/s]"
      ]
     },
     "metadata": {},
     "output_type": "display_data"
    },
    {
     "data": {
      "application/vnd.jupyter.widget-view+json": {
       "model_id": "0a2c912aba4440bca970e6511609cd7c",
       "version_major": 2,
       "version_minor": 0
      },
      "text/plain": [
       "Creating parquet from Arrow format:   0%|          | 0/9 [00:00<?, ?ba/s]"
      ]
     },
     "metadata": {},
     "output_type": "display_data"
    }
   ],
   "source": [
    "ds.push_to_hub(\n",
    "    SAVE_REOO_ID,\n",
    "    private=True,\n",
    "    config_name=\"all\",\n",
    ")"
   ]
  },
  {
   "cell_type": "code",
   "execution_count": 54,
   "metadata": {},
   "outputs": [
    {
     "data": {
      "application/vnd.jupyter.widget-view+json": {
       "model_id": "dfba0fecc61d4d219752e9c8e0a819d6",
       "version_major": 2,
       "version_minor": 0
      },
      "text/plain": [
       "Filter:   0%|          | 0/16376 [00:00<?, ? examples/s]"
      ]
     },
     "metadata": {},
     "output_type": "display_data"
    },
    {
     "data": {
      "application/vnd.jupyter.widget-view+json": {
       "model_id": "caf7adaa1b214805b726f04e528d2cff",
       "version_major": 2,
       "version_minor": 0
      },
      "text/plain": [
       "Filter:   0%|          | 0/14590 [00:00<?, ? examples/s]"
      ]
     },
     "metadata": {},
     "output_type": "display_data"
    },
    {
     "data": {
      "text/plain": [
       "Dataset({\n",
       "    features: ['id', 'title', 'pubDate', 'link', 'summary', 'detail'],\n",
       "    num_rows: 13706\n",
       "})"
      ]
     },
     "execution_count": 54,
     "metadata": {},
     "output_type": "execute_result"
    }
   ],
   "source": [
    "simple_ds = ds.remove_columns(\n",
    "    [\n",
    "        \"cate\",\n",
    "        \"cate_group\",\n",
    "        \"imgPath\",\n",
    "        \"iconPath\",\n",
    "        \"videoPath\",\n",
    "        \"videoDuration\",\n",
    "        \"relationNews\",\n",
    "        \"html\",\n",
    "    ]\n",
    ")\n",
    "simple_ds = simple_ds.filter(lambda x: x[\"summary\"] is not None)\n",
    "simple_ds = simple_ds.filter(lambda x: x[\"detail\"] is not None)\n",
    "simple_ds"
   ]
  },
  {
   "cell_type": "code",
   "execution_count": 59,
   "metadata": {},
   "outputs": [
    {
     "data": {
      "application/vnd.jupyter.widget-view+json": {
       "model_id": "b1e9a050e4f44c44b48af9815de1915d",
       "version_major": 2,
       "version_minor": 0
      },
      "text/plain": [
       "Uploading the dataset shards:   0%|          | 0/1 [00:00<?, ?it/s]"
      ]
     },
     "metadata": {},
     "output_type": "display_data"
    },
    {
     "data": {
      "application/vnd.jupyter.widget-view+json": {
       "model_id": "57cc051748164919ac907ef3507bd3f3",
       "version_major": 2,
       "version_minor": 0
      },
      "text/plain": [
       "Creating parquet from Arrow format:   0%|          | 0/14 [00:00<?, ?ba/s]"
      ]
     },
     "metadata": {},
     "output_type": "display_data"
    },
    {
     "data": {
      "application/vnd.jupyter.widget-view+json": {
       "model_id": "a7a5ef1a8515419d8193b935a813623b",
       "version_major": 2,
       "version_minor": 0
      },
      "text/plain": [
       "README.md:   0%|          | 0.00/1.52k [00:00<?, ?B/s]"
      ]
     },
     "metadata": {},
     "output_type": "display_data"
    }
   ],
   "source": [
    "simple_ds.push_to_hub(\n",
    "    SAVE_REOO_ID,\n",
    "    private=True,\n",
    "    config_name=\"default\",\n",
    ")"
   ]
  },
  {
   "cell_type": "code",
   "execution_count": 85,
   "metadata": {},
   "outputs": [
    {
     "data": {
      "text/plain": [
       "{'id': '275197',\n",
       " 'title': 'ユニセフ 各国に学校再開求める “感染拡大証拠ほとんどなし”',\n",
       " 'pubDate': 'Tue, 08 Dec 2020 12:08:00 +0900',\n",
       " 'link': '/news/html/20201208/k10012751971000.html',\n",
       " 'summary': 'ユニセフ＝国連児童基金は8日、学校が新型コロナウイルスの感染の拡大を招いているという証拠はほとんどないとして、学校の再開を優先させるよう各国政府に求める声明を出しました。',\n",
       " 'detail': '声明では、今月1日時点で児童や生徒の5人に1人、3億2000万人が休校措置の影響を受けていて、先月1日時点に比べておよそ9000万人増えたとしています。一方で、各国のデータを用いた最新の研究では、学校の状況と地域の感染率には何の関連性も示されておらず、学校が感染の拡大を招いているという証拠はほとんどないとしています。そのうえで、あまりにも多くの学校が不必要に休校になっている懸念があるとして、各国政府に学校の再開を優先させ、安全を確保するための措置を可能なかぎりとるよう求めています。また、学校の再開計画にはリモート学習を利用できるようにすることなども盛り込むよう求めています。ユニセフのジェンキンス本部教育グローバルチーフは「最後の手段ではなく、最初の手段として休校措置をとるという、憂慮すべき傾向が再び見られるようになってきている。子どもたちは学習、心身の健康と安全に深刻な影響を受け続けている」としています。'}"
      ]
     },
     "execution_count": 85,
     "metadata": {},
     "output_type": "execute_result"
    }
   ],
   "source": [
    "simple_ds[12345]"
   ]
  }
 ],
 "metadata": {
  "kernelspec": {
   "display_name": "py310",
   "language": "python",
   "name": "python3"
  },
  "language_info": {
   "codemirror_mode": {
    "name": "ipython",
    "version": 3
   },
   "file_extension": ".py",
   "mimetype": "text/x-python",
   "name": "python",
   "nbconvert_exporter": "python",
   "pygments_lexer": "ipython3",
   "version": "3.10.10"
  }
 },
 "nbformat": 4,
 "nbformat_minor": 2
}
