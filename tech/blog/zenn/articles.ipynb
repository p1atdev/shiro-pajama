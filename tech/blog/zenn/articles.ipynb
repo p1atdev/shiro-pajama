{
 "cells": [
  {
   "cell_type": "markdown",
   "metadata": {},
   "source": [
    "## Zenn Articles\n",
    "\n",
    "Website: https://zenn.dev/\n"
   ]
  },
  {
   "cell_type": "markdown",
   "metadata": {},
   "source": [
    "## Setup\n"
   ]
  },
  {
   "cell_type": "code",
   "execution_count": 1,
   "metadata": {},
   "outputs": [],
   "source": [
    "import requests\n",
    "from bs4 import BeautifulSoup\n",
    "import time\n",
    "import json\n",
    "from datasets import Dataset\n",
    "from tqdm import tqdm"
   ]
  },
  {
   "cell_type": "code",
   "execution_count": 2,
   "metadata": {},
   "outputs": [],
   "source": [
    "BASE_URL = \"https://zenn.dev\""
   ]
  },
  {
   "cell_type": "markdown",
   "metadata": {},
   "source": [
    "## Cache URLs\n",
    "\n",
    "GET `https://zenn.dev/articles?page=1` ~ `https://zenn.dev/articles?page=????`\n"
   ]
  },
  {
   "cell_type": "code",
   "execution_count": null,
   "metadata": {},
   "outputs": [],
   "source": [
    "page = 1\n",
    "articles_pages = []\n",
    "\n",
    "client = requests.session()\n",
    "\n",
    "print(\"Fetching articles pages...\")\n",
    "\n",
    "while True:\n",
    "    if page % 100 == 0:\n",
    "        print(\"page:\", page)\n",
    "\n",
    "    url = f\"{BASE_URL}/articles?page={page}\"\n",
    "    res = client.get(url)\n",
    "    res.encoding = res.apparent_encoding\n",
    "    if res.status_code != 200:\n",
    "        if res.status_code == 404:\n",
    "            # end of pages\n",
    "            break\n",
    "        raise Exception(f\"page {page} got {res.status_code}!\")\n",
    "\n",
    "    articles_pages.append(BeautifulSoup(res.content, \"lxml\"))\n",
    "\n",
    "    page += 1\n",
    "\n",
    "    time.sleep(0.01)\n",
    "\n",
    "articles_pages"
   ]
  },
  {
   "cell_type": "markdown",
   "metadata": {},
   "source": [
    "## Parse URLs\n"
   ]
  },
  {
   "cell_type": "code",
   "execution_count": 13,
   "metadata": {},
   "outputs": [],
   "source": [
    "def parse_urls(soup: BeautifulSoup):\n",
    "    article_link_els = soup.select(\"article > a\")\n",
    "\n",
    "    urls = [a.get(\"href\") for a in article_link_els]\n",
    "    assert all([url is not None for url in urls])\n",
    "\n",
    "    urls = [f\"{BASE_URL}{url}\" for url in urls]\n",
    "\n",
    "    return urls"
   ]
  },
  {
   "cell_type": "code",
   "execution_count": 14,
   "metadata": {},
   "outputs": [
    {
     "name": "stderr",
     "output_type": "stream",
     "text": [
      "100%|██████████| 2119/2119 [00:08<00:00, 263.57it/s]"
     ]
    },
    {
     "name": "stdout",
     "output_type": "stream",
     "text": [
      "Total: 87045 urls\n"
     ]
    },
    {
     "name": "stderr",
     "output_type": "stream",
     "text": [
      "\n"
     ]
    }
   ],
   "source": [
    "article_urls = []\n",
    "\n",
    "for page in tqdm(articles_pages):\n",
    "    article_urls.extend(parse_urls(page))\n",
    "\n",
    "print(f\"Total: {len(article_urls)} urls\")"
   ]
  },
  {
   "cell_type": "markdown",
   "metadata": {},
   "source": [
    "### Save Article URLs\n"
   ]
  },
  {
   "cell_type": "code",
   "execution_count": 15,
   "metadata": {},
   "outputs": [],
   "source": [
    "with open(\"urls.txt\", \"w\", encoding=\"utf-8\") as file:\n",
    "    file.write(\"\\n\".join(article_urls))"
   ]
  },
  {
   "cell_type": "markdown",
   "metadata": {},
   "source": [
    "## ...or use pre-collected URLs\n"
   ]
  },
  {
   "cell_type": "code",
   "execution_count": 3,
   "metadata": {},
   "outputs": [
    {
     "data": {
      "text/plain": [
       "Dataset({\n",
       "    features: ['text'],\n",
       "    num_rows: 87045\n",
       "})"
      ]
     },
     "execution_count": 3,
     "metadata": {},
     "output_type": "execute_result"
    }
   ],
   "source": [
    "from datasets import load_dataset\n",
    "\n",
    "urls_ds = load_dataset(\"p1atdev/zenn-articles-20240115\", split=\"train\")\n",
    "assert isinstance(urls_ds, Dataset)\n",
    "\n",
    "urls_ds"
   ]
  },
  {
   "cell_type": "code",
   "execution_count": 4,
   "metadata": {},
   "outputs": [
    {
     "data": {
      "text/plain": [
       "87045"
      ]
     },
     "execution_count": 4,
     "metadata": {},
     "output_type": "execute_result"
    }
   ],
   "source": [
    "article_urls = [row[\"text\"] for row in urls_ds]\n",
    "len(article_urls)"
   ]
  }
 ],
 "metadata": {
  "kernelspec": {
   "display_name": "py310",
   "language": "python",
   "name": "python3"
  },
  "language_info": {
   "codemirror_mode": {
    "name": "ipython",
    "version": 3
   },
   "file_extension": ".py",
   "mimetype": "text/x-python",
   "name": "python",
   "nbconvert_exporter": "python",
   "pygments_lexer": "ipython3",
   "version": "3.10.10"
  }
 },
 "nbformat": 4,
 "nbformat_minor": 2
}
